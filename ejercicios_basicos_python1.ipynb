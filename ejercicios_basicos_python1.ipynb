{
  "nbformat": 4,
  "nbformat_minor": 0,
  "metadata": {
    "colab": {
      "provenance": [],
      "authorship_tag": "ABX9TyNAAo3Nd4FAjlGgqfl5ouPJ",
      "include_colab_link": true
    },
    "kernelspec": {
      "name": "python3",
      "display_name": "Python 3"
    },
    "language_info": {
      "name": "python"
    }
  },
  "cells": [
    {
      "cell_type": "markdown",
      "metadata": {
        "id": "view-in-github",
        "colab_type": "text"
      },
      "source": [
        "<a href=\"https://colab.research.google.com/github/Nayde666/PythonColabs-DS/blob/main/ejercicios.ipynb\" target=\"_parent\"><img src=\"https://colab.research.google.com/assets/colab-badge.svg\" alt=\"Open In Colab\"/></a>"
      ]
    },
    {
      "cell_type": "markdown",
      "source": [
        "# Ejercicios iniciales"
      ],
      "metadata": {
        "id": "alcZuwnz9jFt"
      }
    },
    {
      "cell_type": "code",
      "execution_count": null,
      "metadata": {
        "colab": {
          "base_uri": "https://localhost:8080/"
        },
        "id": "DnZ2bqQ4OfGC",
        "outputId": "6a30c8c7-7f78-4c53-b947-0d6437bdd476"
      },
      "outputs": [
        {
          "output_type": "stream",
          "name": "stdout",
          "text": [
            "Digita tu nombre: Nay\n",
            "Hola Nay\n"
          ]
        }
      ],
      "source": [
        "# 1. Crea un programa que solicite al usuario que escriba su nombre y luego imprima Hola,nombre\n",
        "nombre = input('Digita tu nombre: ')\n",
        "print('Hola %s' %(nombre))"
      ]
    },
    {
      "cell_type": "code",
      "source": [
        "# 2. Crea un programa que solicite al usuario que escriba su nombre y edad yy luego imprima \"Hola, nombre, tienes edad años\"\n",
        "nombre = input('Escribe tu nombre: ')\n",
        "edad = int(input('Escribe tu edad: '))\n",
        "\n",
        "print('Hola %s, tienes %d años' %(nombre, edad))"
      ],
      "metadata": {
        "colab": {
          "base_uri": "https://localhost:8080/"
        },
        "id": "JAKdiS0PPHuX",
        "outputId": "187ef5e4-20ed-42fa-b6ba-809b70bc473a"
      },
      "execution_count": null,
      "outputs": [
        {
          "output_type": "stream",
          "name": "stdout",
          "text": [
            "Escribe tu nombre: Naydelin\n",
            "Escribe tu edad: 22\n",
            "Hola Naydelin, tienes 22 años\n"
          ]
        }
      ]
    },
    {
      "cell_type": "code",
      "source": [
        "# 3. Crea un programa que solicite al usuario que escriba su nombre, edad y altura en metros,\n",
        "# y luego imprima \"Hola, [nombre], tienes [edad] años y mides [altura] metros.\"\n",
        "nombre = input('Escribe tu nombre: ')\n",
        "edad = int(input('Escribe tu edad: '))\n",
        "altura = float(input('Escribe tu altura: '))\n",
        "\n",
        "print('Hola %s, tienes %d años y mides %f' %(nombre, edad, altura))"
      ],
      "metadata": {
        "colab": {
          "base_uri": "https://localhost:8080/"
        },
        "id": "oOWDuDrGP1MO",
        "outputId": "ef3fa029-f5a8-4b4c-ac1a-3113e1079cb8"
      },
      "execution_count": null,
      "outputs": [
        {
          "output_type": "stream",
          "name": "stdout",
          "text": [
            "Escribe tu nombre: Naydelin\n",
            "Escribe tu edad: 22\n",
            "Escribe tu altura: 1.70\n",
            "Hola Naydelin, tienes 22 años y mides 1.700000\n"
          ]
        }
      ]
    },
    {
      "cell_type": "code",
      "source": [
        "# CALCULADORA CON OPERADORES\n",
        "# 4 - Crea un programa que solicite dos valores numéricos al usuario y luego imprima la suma de ambos valores\n",
        "primer_numero = int(input('Digita el primer numero: '))\n",
        "segundo_numero = int(input('Digita el segundo numero: '))\n",
        "\n",
        "print(id(primer_numero), id(segundo_numero))\n",
        "\n",
        "suma = primer_numero + segundo_numero\n",
        "print(suma)"
      ],
      "metadata": {
        "colab": {
          "base_uri": "https://localhost:8080/"
        },
        "id": "gYJI-N7YQfzh",
        "outputId": "5380d636-04dc-4957-e44c-a5c78279ac9c"
      },
      "execution_count": null,
      "outputs": [
        {
          "output_type": "stream",
          "name": "stdout",
          "text": [
            "Digita el primer numero: 20\n",
            "Digita el segundo numero: 10\n",
            "10751464 10751144\n",
            "30\n"
          ]
        }
      ]
    },
    {
      "cell_type": "code",
      "source": [
        "# 5 - Crea un programa que solicite tres valores numéricos al usuario y luego imprima la suma de los tres valores.\n",
        "primer_numero = int(input('Digita el primer numero: '))\n",
        "segundo_numero = int(input('Digita el segundo numero: '))\n",
        "tercer_numero = int(input('Digita el tercer numero: '))\n",
        "\n",
        "print(id(primer_numero),id(segundo_numero), id(tercer_numero))\n",
        "\n",
        "suma = primer_numero + segundo_numero + tercer_numero\n",
        "print(suma)"
      ],
      "metadata": {
        "colab": {
          "base_uri": "https://localhost:8080/"
        },
        "id": "rZ1L3X80Q8Xh",
        "outputId": "0a99ef71-5839-407e-821c-481624845044"
      },
      "execution_count": null,
      "outputs": [
        {
          "output_type": "stream",
          "name": "stdout",
          "text": [
            "Digita el primer numero: 20\n",
            "Digita el segundo numero: 10\n",
            "Digita el tercer numero: 10\n",
            "10751464 10751144 10751144\n",
            "40\n"
          ]
        }
      ]
    },
    {
      "cell_type": "code",
      "source": [
        "# 6 - Crea un programa que solicite dos valores numéricos al usuario y luego imprima la\n",
        "# resta del primero menos el segundo valor.\n",
        "primer_numero = int(input('Digita el primer numero: '))\n",
        "segundo_numero = int(input('Digita el segundo numero: '))\n",
        "\n",
        "print(id(primer_numero), id(segundo_numero))\n",
        "\n",
        "resta = primer_numero - segundo_numero\n",
        "print(resta)\n",
        "print(id(resta))"
      ],
      "metadata": {
        "colab": {
          "base_uri": "https://localhost:8080/"
        },
        "id": "WGLd4OktRK5x",
        "outputId": "643cd357-ddcc-4c8a-ab83-abd7f9a98086"
      },
      "execution_count": null,
      "outputs": [
        {
          "output_type": "stream",
          "name": "stdout",
          "text": [
            "Digita el primer numero: 20\n",
            "Digita el segundo numero: 10\n",
            "10751464 10751144\n",
            "10\n",
            "10751144\n"
          ]
        }
      ]
    },
    {
      "cell_type": "code",
      "source": [
        "# 7 - Crea un programa que solicite dos valores numéricos al usuario y luego imprima la multiplicación de los dos valores.\n",
        "primer_numero = int(input('Digita el primer numero: '))\n",
        "segundo_numero = int(input('Digita el segundo numero: '))\n",
        "\n",
        "multiplicacion = primer_numero * segundo_numero\n",
        "print(multiplicacion)"
      ],
      "metadata": {
        "colab": {
          "base_uri": "https://localhost:8080/"
        },
        "id": "jj9_-gakR2Sq",
        "outputId": "cc0f97c6-5a19-450f-b549-c399d3d7f804"
      },
      "execution_count": null,
      "outputs": [
        {
          "output_type": "stream",
          "name": "stdout",
          "text": [
            "Digita el primer numero: 5\n",
            "Digita el segundo numero: 5\n",
            "25\n"
          ]
        }
      ]
    },
    {
      "cell_type": "code",
      "source": [
        "# 8 - Crea un programa que solicite dos valores numéricos, un numerador y un denominador, y realice la división entre los dos valores.\n",
        "# Asegúrate de que el valor del denominador no sea igual a 0.\n",
        "primer_numero = int(input('Digita el primer numero: '))\n",
        "segundo_numero = int(input('Digita el segundo numero: '))\n",
        "\n",
        "while segundo_numero == 0:\n",
        "  print('El denominador no puede ser 0')\n",
        "  segundo_numero = int(input('Digita el segundo numero: '))\n",
        "\n",
        "division = primer_numero / segundo_numero\n",
        "print('El resultado es %f' %(division))"
      ],
      "metadata": {
        "colab": {
          "base_uri": "https://localhost:8080/"
        },
        "id": "KbrutbjWSMIV",
        "outputId": "851915ed-e780-4880-b84b-b4cac105cbcb"
      },
      "execution_count": null,
      "outputs": [
        {
          "output_type": "stream",
          "name": "stdout",
          "text": [
            "Digita el primer numero: 20\n",
            "Digita el segundo numero: 0\n",
            "El denominador no puede ser 0\n",
            "Digita el segundo numero: 0\n",
            "El denominador no puede ser 0\n",
            "Digita el segundo numero: 5\n",
            "El resultado es 4.000000\n"
          ]
        }
      ]
    },
    {
      "cell_type": "code",
      "source": [
        "# 9 - Crea un programa que solicite dos valores numéricos, un operador y una potencia, y\n",
        "# realice la exponenciación entre estos dos valores.\n",
        "base = int(input('Digita la base: '))\n",
        "exponente = int(input('Digita el exponente: '))\n",
        "\n",
        "potencia = base ** exponente\n",
        "print('El resultado es: %d' %(potencia))"
      ],
      "metadata": {
        "colab": {
          "base_uri": "https://localhost:8080/"
        },
        "id": "jqK1MqCRS-4L",
        "outputId": "fa27005f-6c11-4140-e1e0-ae9c9f18fe60"
      },
      "execution_count": null,
      "outputs": [
        {
          "output_type": "stream",
          "name": "stdout",
          "text": [
            "Digita la base: 3\n",
            "Digita el exponente: 3\n",
            "El resultado es: 27\n"
          ]
        }
      ]
    },
    {
      "cell_type": "code",
      "source": [
        "# 10 - Crea un programa que solicite dos valores numéricos, un numerador y un denominador, y realice la división entera\n",
        "# entre los dos valores. Asegúrate de que el valor del denominador no sea igual a 0.\n",
        "primer_numero = int(input('Digita el primer numero: '))\n",
        "segundo_numero = float(input('Digita el segundo numero: '))\n",
        "\n",
        "while segundo_numero == 0:\n",
        "  print('El denominador no puede ser 0')\n",
        "  segundo_numero = int(input('Digita el segundo numero: '))\n",
        "\n",
        "division = primer_numero // segundo_numero\n",
        "print('El resultado es %i' %(division))"
      ],
      "metadata": {
        "colab": {
          "base_uri": "https://localhost:8080/"
        },
        "id": "ZcSWyNukVUP6",
        "outputId": "83a270fe-e99d-4733-ef12-78dc93caa654"
      },
      "execution_count": null,
      "outputs": [
        {
          "output_type": "stream",
          "name": "stdout",
          "text": [
            "Digita el primer numero: 20\n",
            "Digita el segundo numero: 3.5\n",
            "El resultado es 5\n"
          ]
        }
      ]
    },
    {
      "cell_type": "code",
      "source": [
        "# 11 Crea un programa que solicite dos valores numéricos, un numerador y un denominador, y devuelva\n",
        "#el resto de la división entre los dos valores. Asegúrate de que el valor del denominador no sea igual a 0.\n",
        "primer_numero = int(input('Digita el primer numero: '))\n",
        "segundo_numero = float(input('Digita el segundo numero: '))\n",
        "\n",
        "while segundo_numero == 0:\n",
        "  print('El denominador no puede ser 0')\n",
        "  segundo_numero = int(input('Digita el segundo numero: '))\n",
        "\n",
        "division = primer_numero % segundo_numero\n",
        "print('El resultado es %i' %(division))"
      ],
      "metadata": {
        "colab": {
          "base_uri": "https://localhost:8080/"
        },
        "id": "tOP-biolVsVc",
        "outputId": "3521c12a-926d-45c8-9dc6-c3e43ba48c05"
      },
      "execution_count": null,
      "outputs": [
        {
          "output_type": "stream",
          "name": "stdout",
          "text": [
            "Digita el primer numero: 20\n",
            "Digita el segundo numero: 3\n",
            "El resultado es 2\n"
          ]
        }
      ]
    },
    {
      "cell_type": "code",
      "source": [
        "# 12 - Crea un código que solicite las 3 notas de un estudiante e imprima el\n",
        "# promedio de las notas.\n",
        "primer_numero = float(input('Digita la primer nota: '))\n",
        "segundo_numero = float(input('Digita la segunda nota: '))\n",
        "tercer_numero = float(input('Digita la tercer nota: '))\n",
        "\n",
        "promedio = (primer_numero + segundo_numero + tercer_numero) / 3\n",
        "print('El promedio es %f' %(promedio))"
      ],
      "metadata": {
        "colab": {
          "base_uri": "https://localhost:8080/"
        },
        "id": "c9X1iWJhV_h_",
        "outputId": "9e4c7e7e-6646-4c5e-bef7-23d1173ca08d"
      },
      "execution_count": null,
      "outputs": [
        {
          "output_type": "stream",
          "name": "stdout",
          "text": [
            "Digita la primer nota: 9.5\n",
            "Digita la segunda nota: 7.9\n",
            "Digita la tercer nota: 8.3\n",
            "El promedio es 8.566667\n"
          ]
        }
      ]
    },
    {
      "cell_type": "code",
      "source": [
        "#13 - Crea un código que calcule e imprima el promedio ponderado de los números 5, 12, 20 y 15\n",
        "# con pesos respectivamente iguales a 1, 2, 3 y 4.\n",
        "promedio_ponderado = (5*1 + 12*2 + 20*3 + 15*4) / (1+2+3+4)\n",
        "print(promedio_ponderado)"
      ],
      "metadata": {
        "colab": {
          "base_uri": "https://localhost:8080/"
        },
        "id": "nXYRu9GZXYMV",
        "outputId": "b2ada2b3-5aed-4a58-e593-2f2efa7c2141"
      },
      "execution_count": null,
      "outputs": [
        {
          "output_type": "stream",
          "name": "stdout",
          "text": [
            "14.9\n"
          ]
        }
      ]
    },
    {
      "cell_type": "code",
      "source": [
        "# 14 - Crea una variable llamada \"frase\" y asígnale una cadena de texto de tu elección.\n",
        "# Luego, imprime la frase en pantalla.\n",
        "\n",
        "frase = 'Hola a todos, me gusta jugar valorant'\n",
        "print(frase)"
      ],
      "metadata": {
        "colab": {
          "base_uri": "https://localhost:8080/"
        },
        "id": "7361-S4CYh3O",
        "outputId": "2275f353-86ee-4ddc-a10a-980b839bc61e"
      },
      "execution_count": null,
      "outputs": [
        {
          "output_type": "stream",
          "name": "stdout",
          "text": [
            "Hola a todos, me gusta jugar valorant\n"
          ]
        }
      ]
    },
    {
      "cell_type": "code",
      "source": [
        "# 15 - Crea un código que solicite una frase y luego imprima la frase en pantalla.\n",
        "frase = input('Escribe algo: ')\n",
        "print(frase)"
      ],
      "metadata": {
        "colab": {
          "base_uri": "https://localhost:8080/"
        },
        "id": "aK5CMox8Y7LD",
        "outputId": "91fd5ea3-75e6-45d3-a903-496c6f544608"
      },
      "execution_count": null,
      "outputs": [
        {
          "output_type": "stream",
          "name": "stdout",
          "text": [
            "Escribe algo: Me gusta iso\n",
            "Me gusta iso\n"
          ]
        }
      ]
    },
    {
      "cell_type": "code",
      "source": [
        "# 16 - Crea un código que solicite una frase al usuario y luego imprima la misma\n",
        "# frase ingresada pero en mayúsculas.\n",
        "frase = input('Escribe algo: ')\n",
        "print(frase.upper())"
      ],
      "metadata": {
        "colab": {
          "base_uri": "https://localhost:8080/"
        },
        "id": "LZ3wl1kTZEEm",
        "outputId": "80a43b5c-e53c-4253-8296-05a520aa58fa"
      },
      "execution_count": null,
      "outputs": [
        {
          "output_type": "stream",
          "name": "stdout",
          "text": [
            "Escribe algo: Me gusta jugar valorant\n",
            "ME GUSTA JUGAR VALORANT\n"
          ]
        }
      ]
    },
    {
      "cell_type": "code",
      "source": [
        "# 17 - Crea un código que solicite una frase al usuario y luego imprima la misma\n",
        "# frase ingresada pero en minúsculas.\n",
        "frase = input('Escribe algo: ')\n",
        "print(frase.lower())"
      ],
      "metadata": {
        "colab": {
          "base_uri": "https://localhost:8080/"
        },
        "id": "noQ_Fs0jZqBv",
        "outputId": "ca475af9-d510-4941-cb86-160707ca3fbd"
      },
      "execution_count": null,
      "outputs": [
        {
          "output_type": "stream",
          "name": "stdout",
          "text": [
            "Escribe algo: Hola\n",
            "hola\n"
          ]
        }
      ]
    },
    {
      "cell_type": "code",
      "source": [
        "# 18 - Crea una variable llamada \"frase\" y asígnale una cadena de texto de tu elección.\n",
        "# Luego, imprime la frase sin espacios en blanco al principio y al final.\n",
        "frase = input('Escribe algo: ')\n",
        "print(frase.strip())"
      ],
      "metadata": {
        "colab": {
          "base_uri": "https://localhost:8080/"
        },
        "id": "Hk7eUYwFZzV3",
        "outputId": "e214161d-fd29-49c3-ddc0-e46b4a3c8306"
      },
      "execution_count": null,
      "outputs": [
        {
          "output_type": "stream",
          "name": "stdout",
          "text": [
            "Escribe algo:   Hola a todos     \n",
            "Hola a todos\n"
          ]
        }
      ]
    },
    {
      "cell_type": "code",
      "source": [
        "# 20 - Crea un código que solicite una frase al usuario y luego imprima la misma frase sin espacios en\n",
        "# blanco al principio y al final, además de convertirla a minúsculas.\n",
        "frase = input('Escribe algo: ')\n",
        "print(frase)\n",
        "print(frase.strip().lower())"
      ],
      "metadata": {
        "colab": {
          "base_uri": "https://localhost:8080/"
        },
        "id": "igSliVCNaML9",
        "outputId": "95fae0c7-2bd2-4662-eeed-3b1f2c5fd801"
      },
      "execution_count": null,
      "outputs": [
        {
          "output_type": "stream",
          "name": "stdout",
          "text": [
            "Escribe algo:   Hola a todos   \n",
            "  Hola a todos   \n",
            "hola a todos\n"
          ]
        }
      ]
    },
    {
      "cell_type": "code",
      "source": [
        "# 22 - Crea un código que solicite una frase al usuario y luego imprima la misma\n",
        "# frase con todas las vocales \"a\" reemplazadas por el carácter \"@\".\n",
        "frase = input('Escribe algo: ')\n",
        "print(frase.replace('a','@'))"
      ],
      "metadata": {
        "colab": {
          "base_uri": "https://localhost:8080/"
        },
        "id": "tlqIVDZFabFx",
        "outputId": "d56058f0-492f-4f39-89ba-b9b8b46cb1f9"
      },
      "execution_count": null,
      "outputs": [
        {
          "output_type": "stream",
          "name": "stdout",
          "text": [
            "Escribe algo: Me gusta jugar valorant\n",
            "Me gust@ jug@r v@lor@nt\n"
          ]
        }
      ]
    },
    {
      "cell_type": "code",
      "source": [],
      "metadata": {
        "id": "mshYLb_taw_I"
      },
      "execution_count": null,
      "outputs": []
    },
    {
      "cell_type": "markdown",
      "source": [
        "# Ejercicios Condicionales"
      ],
      "metadata": {
        "id": "O7Ra5ik39o0a"
      }
    },
    {
      "cell_type": "code",
      "source": [
        "# Recolectamos los números\n",
        "num1 = float(input('Ingrese el primer número: '))\n",
        "num2 = float(input('Ingrese el segundo número: '))\n",
        "# Comparamos ambos números y determinamos cuál es el mayor\n",
        "if num1 > num2:\n",
        "    print(f'El primer número es mayor: {num1}')\n",
        "elif num2 > num1:\n",
        "    print(f'El segundo número es mayor: {num2}')\n",
        "else: # En caso de que los números sean iguales\n",
        "    print('Ambos números son iguales.')"
      ],
      "metadata": {
        "id": "KyviMOlP9q04",
        "outputId": "2e803047-58ef-4829-8cef-9d3d84746ede",
        "colab": {
          "base_uri": "https://localhost:8080/"
        }
      },
      "execution_count": null,
      "outputs": [
        {
          "output_type": "stream",
          "name": "stdout",
          "text": [
            "Ingrese el primer número: 10\n",
            "Ingrese el segundo número: 10\n",
            "Ambos números son iguales.\n"
          ]
        }
      ]
    },
    {
      "cell_type": "code",
      "source": [
        "\"\"\"\n",
        "2 - Escribe un programa que solicite el porcentaje de crecimiento de producción\n",
        "de una empresa e informe si hubo un crecimiento (porcentaje positivo) o una\n",
        "disminución (porcentaje negativo).\n",
        "\"\"\"\n",
        "\n",
        "# Recolectamos el porcentaje\n",
        "variación = float(input('Ingrese el porcentaje de crecimiento: '))\n",
        "# Verificamos si el valor es positivo o negativo con una comparación para ver si el número\n",
        "# es mayor o menor que 0\n",
        "if variación > 0:\n",
        "    print(f'Hubo un crecimiento del {variación}%')\n",
        "elif variación < 0:\n",
        "    print(f'Hubo un decrecimiento del {variación}%')\n",
        "else:\n",
        "    print('No hubo crecimiento ni decrecimiento.')"
      ],
      "metadata": {
        "id": "u2McRWI99uEj",
        "outputId": "a849a5e9-530b-4d74-c1db-e7e818adc793",
        "colab": {
          "base_uri": "https://localhost:8080/"
        }
      },
      "execution_count": null,
      "outputs": [
        {
          "output_type": "stream",
          "name": "stdout",
          "text": [
            "Ingrese el porcentaje de crecimiento: 20\n",
            "Hubo un crecimiento del 20.0%\n"
          ]
        }
      ]
    },
    {
      "cell_type": "code",
      "source": [
        "# Recolectamos la letra del usuario en minúsculas\n",
        "letra = input('Ingrese una letra: ').lower()\n",
        "vocales = 'aeiou' # cadena que contiene todas las vocales\n",
        "# Verificamos si la letra está en las vocales con `in`\n",
        "if letra in vocales:\n",
        "    print('La letra es una vocal.')\n",
        "else:\n",
        "    print('La letra es una consonante.')\n"
      ],
      "metadata": {
        "id": "vjH5-KHn-glk",
        "outputId": "1728adc8-e8e8-455e-cf11-b60aec812244",
        "colab": {
          "base_uri": "https://localhost:8080/"
        }
      },
      "execution_count": null,
      "outputs": [
        {
          "output_type": "stream",
          "name": "stdout",
          "text": [
            "Digita una letra: x\n",
            "Es una consonante\n"
          ]
        }
      ]
    },
    {
      "cell_type": "code",
      "source": [
        "\"\"\"\n",
        "4 - Escribe un programa que lea valores promedio de precios de un modelo de\n",
        "automóvil durante 3 años consecutivos y muestre el valor más alto y más bajo\n",
        "entre esos tres años.\n",
        "\"\"\"\n",
        "# Pedir al usuario que ingrese los precios promedio para cada año\n",
        "precio1 = float(input(\"Ingresa el precio promedio del automóvil para el primer año: \"))\n",
        "precio2 = float(input(\"Ingresa el precio promedio del automóvil para el segundo año: \"))\n",
        "precio3 = float(input(\"Ingresa el precio promedio del automóvil para el tercer año: \"))\n",
        "\n",
        "valor_mas_alto = 0\n",
        "valor_mas_bajo = 0\n",
        "\n",
        "if precio1 > precio2 and precio1 > precio3:\n",
        "    valor_mas_alto = precio1\n",
        "elif precio2 > precio1 and precio2 > precio3:\n",
        "    valor_mas_alto = precio2\n",
        "else:\n",
        "    valor_mas_alto = precio3\n",
        "\n",
        "# Determinar el precio más bajo\n",
        "if precio1 < precio2 and precio1 < precio3:\n",
        "    valor_mas_bajo = precio1\n",
        "elif precio2 < precio1 and precio2 < precio3:\n",
        "    valor_mas_bajo = precio2\n",
        "else:\n",
        "    valor_mas_bajo = precio3\n",
        "\n",
        "# Mostrar los resultados\n",
        "print(f\"El valor más alto entre los tres años es: ${valor_mas_alto:.2f}\")\n",
        "print(f\"El valor más bajo entre los tres años es: ${valor_mas_bajo:.2f}\")\n",
        "\n"
      ],
      "metadata": {
        "id": "fDX7Cu7p_A6N",
        "outputId": "21cda6ca-cf2a-415e-817e-6da4fd9007d4",
        "colab": {
          "base_uri": "https://localhost:8080/"
        }
      },
      "execution_count": null,
      "outputs": [
        {
          "output_type": "stream",
          "name": "stdout",
          "text": [
            "Ingresa el precio promedio del automóvil para el primer año: 20\n",
            "Ingresa el precio promedio del automóvil para el segundo año: 2000\n",
            "Ingresa el precio promedio del automóvil para el tercer año: 2\n",
            "El valor más alto entre los tres años es: $2000.00\n",
            "El valor más bajo entre los tres años es: $2.00\n"
          ]
        }
      ]
    },
    {
      "cell_type": "code",
      "source": [
        "\"\"\"\n",
        "5 - Escribe un programa que pregunte sobre el precio de tres productos e indique\n",
        "cuál es el producto más barato para comprar.\n",
        "\"\"\"\n",
        "# Recolectamos el precio de tres productos\n",
        "producto1 = float(input('Ingrese el precio del primer producto: '))\n",
        "producto2 = float(input('Ingrese el precio del segundo producto: '))\n",
        "producto3 = float(input('Ingrese el precio del tercer producto: '))\n",
        "\n",
        "# Usamos el operador lógico `and` para determinar cuál es el precio más bajo entre los 3 productos\n",
        "# ya que esto nos permite hacer una comparación de 3 entradas\n",
        "if producto1 < producto2 and producto1 < producto3:\n",
        "    print('El primer producto es el más barato.')\n",
        "elif producto2 < producto1 and producto2 < producto3:\n",
        "    print('El segundo producto es el más barato.')\n",
        "else:\n",
        "    print('El tercer producto es el más barato.')"
      ],
      "metadata": {
        "id": "MbpkcYdn_tHt",
        "outputId": "d96fd36e-1d7b-4541-8c73-6c1f55063395",
        "colab": {
          "base_uri": "https://localhost:8080/"
        }
      },
      "execution_count": null,
      "outputs": [
        {
          "output_type": "stream",
          "name": "stdout",
          "text": [
            "0\n",
            "1\n",
            "2\n",
            "3\n"
          ]
        }
      ]
    },
    {
      "cell_type": "code",
      "source": [],
      "metadata": {
        "id": "Ag4HeGUhByqu"
      },
      "execution_count": null,
      "outputs": []
    },
    {
      "cell_type": "markdown",
      "source": [
        "# EJERCICIOS BUCLES"
      ],
      "metadata": {
        "id": "0exz3w7hDt3P"
      }
    },
    {
      "cell_type": "code",
      "source": [
        "\"\"\"\n",
        "1 - Escribe un programa que solicite dos números enteros e imprima todos\n",
        "los números enteros entre ellos.\n",
        "\"\"\"\n",
        "numero_inicio = int(input('Inserta el número de inicio: '))\n",
        "numero_fin = int(input('Inserte el número de fin: '))\n",
        "\n",
        "for i in range(numero_inicio + 1, numero_fin):\n",
        "  print(i)"
      ],
      "metadata": {
        "colab": {
          "base_uri": "https://localhost:8080/"
        },
        "id": "ksBpjBcdDwCD",
        "outputId": "f8866f75-a28b-4c80-b784-98833d50c5fd"
      },
      "execution_count": null,
      "outputs": [
        {
          "output_type": "stream",
          "name": "stdout",
          "text": [
            "Inserta el número de inicio: 1200\n",
            "Inserte el número de fin: 1205\n",
            "1201\n",
            "1202\n",
            "1203\n",
            "1204\n"
          ]
        }
      ]
    },
    {
      "cell_type": "code",
      "source": [
        "\"\"\"\n",
        "2 - Escribe un programa para calcular cuántos días tomará que la colonia de una\n",
        "bacteria A supere o iguale a la colonia de una bacteria B, basado en tasas de\n",
        "crecimiento del 3% y 1.5%, respectivamente. Supón que la colonia A comienza con\n",
        "4 elementos y B con 10.\n",
        "\"\"\"\n",
        "dias = 0;\n",
        "\n",
        "colonia_bacteria_A = 4;\n",
        "colonia_bacteria_B = 10;\n",
        "\n",
        "while colonia_bacteria_B > colonia_bacteria_A:\n",
        "  colonia_bacteria_A *= 1.03;\n",
        "  colonia_bacteria_B *= 1.015;\n",
        "  dias += 1;\n",
        "\n",
        "print(f'El total de días que le tomo a A alcanzar a B son: {dias}')"
      ],
      "metadata": {
        "colab": {
          "base_uri": "https://localhost:8080/"
        },
        "id": "t0RSTrWrEelq",
        "outputId": "cfef5b17-fa31-4662-eafc-33e3f977118a"
      },
      "execution_count": null,
      "outputs": [
        {
          "output_type": "stream",
          "name": "stdout",
          "text": [
            "El total de días que le tomo a A alcanzar a B son: 63\n"
          ]
        }
      ]
    },
    {
      "cell_type": "code",
      "source": [
        "\"\"\"3 - Para procesar una cantidad de 15 datos de evaluaciones de usuarios de un\n",
        "servicio de la empresa, necesitamos verificar si las calificaciones son válidas.\n",
        "Por lo tanto, escribe un programa que recibirá calificaciones del 0 al 5 y\n",
        "verificará si son valores válidos. Si se ingresa una calificación superior a 5\n",
        "o inferior a 0, se repetirá hasta que el usuario ingrese un valor válido.\n",
        "\"\"\"\n",
        "evaluaciones = [];\n",
        "\n",
        "for i in range(1,16):\n",
        "  evaluacion = int(input('Digita la evaluación: '))\n",
        "  while evaluacion > 5 or evaluacion < 0:\n",
        "    print('La calificacion no es valida, ingrese de nuevo')\n",
        "    evaluacion = int(input('Digita la evaluación: '))\n",
        "  evaluaciones.append(evaluacion)\n",
        "\n",
        "print(evaluaciones)\n"
      ],
      "metadata": {
        "colab": {
          "base_uri": "https://localhost:8080/"
        },
        "id": "7a0fdXIAGqm3",
        "outputId": "2cb12b3d-4a13-411a-bbcf-6a27b275c3a6"
      },
      "execution_count": null,
      "outputs": [
        {
          "output_type": "stream",
          "name": "stdout",
          "text": [
            "Digita la evaluación: 10\n",
            "La calificacion no es valida, ingrese de nuevo\n",
            "Digita la evaluación: 7\n",
            "La calificacion no es valida, ingrese de nuevo\n",
            "Digita la evaluación: 2\n",
            "Digita la evaluación: 3\n",
            "Digita la evaluación: 4\n",
            "Digita la evaluación: 5\n",
            "Digita la evaluación: 1\n",
            "Digita la evaluación: 2\n",
            "Digita la evaluación: 3\n",
            "Digita la evaluación: 4\n",
            "Digita la evaluación: 5\n",
            "Digita la evaluación: 1\n",
            "Digita la evaluación: 2\n",
            "Digita la evaluación: 3\n",
            "Digita la evaluación: 4\n",
            "Digita la evaluación: 1\n",
            "Digita la evaluación: 2\n",
            "[2, 3, 4, 5, 1, 2, 3, 4, 5, 1, 2, 3, 4, 1, 2]\n"
          ]
        }
      ]
    },
    {
      "cell_type": "code",
      "source": [
        "\"\"\"\n",
        "4 - Desarrolla un programa que lea un conjunto indefinido de temperaturas en\n",
        "grados Celsius y calcule su promedio. La lectura debe detenerse al ingresar el\n",
        "valor -273°C.\n",
        "\"\"\"\n",
        "suma_temperaturas = 0\n",
        "i = 0\n",
        "\n",
        "while True:\n",
        "    temperatura = int(input(\"Digita una temperatura: \"))\n",
        "\n",
        "    if temperatura == -273:\n",
        "        break\n",
        "\n",
        "    suma_temperaturas += temperatura\n",
        "    i += 1\n",
        "\n",
        "if i > 0:\n",
        "    promedio = suma_temperaturas / i\n",
        "    print(f\"El promedio de las temperaturas es: {promedio:.2f}\")\n",
        "else:\n",
        "    print(\"No se ingresaron temperaturas válidas.\")"
      ],
      "metadata": {
        "colab": {
          "base_uri": "https://localhost:8080/"
        },
        "id": "xY-cBn9RIdg5",
        "outputId": "f31155d1-ee45-4dd3-d39a-cf6fee076c52"
      },
      "execution_count": null,
      "outputs": [
        {
          "output_type": "stream",
          "name": "stdout",
          "text": [
            "Digita una temperatura: 10\n",
            "Digita una temperatura: 190\n",
            "Digita una temperatura: 180\n",
            "Digita una temperatura: -20\n",
            "Digita una temperatura: -50\n",
            "Digita una temperatura: -273\n",
            "6.166666666666667\n"
          ]
        }
      ]
    },
    {
      "cell_type": "code",
      "source": [
        "\"\"\"\n",
        "5 - Escribe un programa que calcule el factorial de un número entero proporcionado\n",
        "por el usuario.\n",
        "Recuerda que el factorial de un número entero es el producto de\n",
        "ese número por todos sus antecesores hasta llegar al número 1. Por ejemplo, el\n",
        "factorial de 5 es 5 x 4 x 3 x 2 x 1 = 120.\n",
        "\"\"\"\n",
        "\n",
        "# USANDO FOR\n",
        "numero_usuario = int(input('Digita el numero: '));\n",
        "factorial = 1;\n",
        "\n",
        "for i in range(numero_usuario,0,-1):\n",
        "  factorial *= i;\n",
        "print(factorial);"
      ],
      "metadata": {
        "colab": {
          "base_uri": "https://localhost:8080/"
        },
        "id": "8WTh4ooeML6R",
        "outputId": "5be5e7ae-0355-4f73-b3de-3b310c36b0f2"
      },
      "execution_count": null,
      "outputs": [
        {
          "output_type": "stream",
          "name": "stdout",
          "text": [
            "Digita el numero: 5\n",
            "120\n"
          ]
        }
      ]
    },
    {
      "cell_type": "code",
      "source": [
        "# USANDO WHILE\n",
        "numero_usuario = int(input('Digita el numero: '));\n",
        "factorial = 1;\n",
        "\n",
        "while numero_usuario >= 1:\n",
        "  factorial *= numero_usuario\n",
        "  numero_usuario -= 1\n",
        "\n",
        "print(factorial)\n",
        "\n"
      ],
      "metadata": {
        "colab": {
          "base_uri": "https://localhost:8080/"
        },
        "id": "tFHwKV49OdAZ",
        "outputId": "00ff5450-7dac-4674-b685-c4d7d3f88bec"
      },
      "execution_count": null,
      "outputs": [
        {
          "output_type": "stream",
          "name": "stdout",
          "text": [
            "Digita el numero: 5\n",
            "120\n"
          ]
        }
      ]
    },
    {
      "cell_type": "markdown",
      "source": [
        "## Momento de los proyectos"
      ],
      "metadata": {
        "id": "82LHy7alQb1a"
      }
    },
    {
      "cell_type": "code",
      "source": [
        "\"\"\"\n",
        "6 - Escribe un programa que genere la tabla de multiplicar de un número entero\n",
        "del 1 al 10, según la elección del usuario. Como ejemplo, para el número 2, la\n",
        "tabla de multiplicar debe mostrarse en el siguiente formato\n",
        "\"\"\"\n",
        "\n",
        "numero_usuario = int(input('Digita el numero para la tabla: '))\n",
        "multiplicacion = 0;\n",
        "\n",
        "while numero_usuario < 1 or numero_usuario > 10:\n",
        "  numero_usuario = int(input('Digita el numero para la tabla: '))\n",
        "\n",
        "for i in range(1,11):\n",
        "  multiplicacion = numero_usuario * i;\n",
        "  print(f'{numero_usuario} x {i} = {multiplicacion}')\n",
        "\n",
        "print('fin')"
      ],
      "metadata": {
        "colab": {
          "base_uri": "https://localhost:8080/"
        },
        "id": "WZVVJiI8QCVq",
        "outputId": "dd753ad5-1f1f-4278-ddbc-155c771e44c3"
      },
      "execution_count": null,
      "outputs": [
        {
          "output_type": "stream",
          "name": "stdout",
          "text": [
            "Digita el numero para la tabla: 11\n",
            "Digita el numero para la tabla: 11\n",
            "Digita el numero para la tabla: 12\n",
            "Digita el numero para la tabla: 12\n",
            "Digita el numero para la tabla: -2\n",
            "Digita el numero para la tabla: 6\n",
            "6 x 1 = 6\n",
            "6 x 2 = 12\n",
            "6 x 3 = 18\n",
            "6 x 4 = 24\n",
            "6 x 5 = 30\n",
            "6 x 6 = 36\n",
            "6 x 7 = 42\n",
            "6 x 8 = 48\n",
            "6 x 9 = 54\n",
            "6 x 10 = 60\n",
            "fin\n"
          ]
        }
      ]
    },
    {
      "cell_type": "code",
      "source": [
        "\"\"\"\n",
        "7 - Los números primos tienen diversas aplicaciones en Ciencia de Datos, como en\n",
        "criptografía y seguridad. Un número primo es aquel que es divisible solo por sí\n",
        "mismo y por 1. Por lo tanto, crea un programa que solicite un número entero y\n",
        "determine si es un número primo o no.\n",
        "\"\"\"\n",
        "numero_usuario = int(input(\"Digita un número: \"))\n",
        "\n",
        "if numero_usuario < 2:\n",
        "    print(\"No es primo\")\n",
        "else:\n",
        "    es_primo = True\n",
        "\n",
        "    for i in range(2, numero_usuario):  # Recorre todos los números menores\n",
        "        if numero_usuario % i == 0:  # Si encuentra un divisor, ya no es primo\n",
        "            es_primo = False\n",
        "            break\n",
        "\n",
        "    if es_primo:\n",
        "        print(\"Es primo\")\n",
        "    else:\n",
        "        print(\"No es primo\")"
      ],
      "metadata": {
        "colab": {
          "base_uri": "https://localhost:8080/"
        },
        "id": "ND3_g8StUT2Y",
        "outputId": "a9c3b2e2-c619-47ab-b930-d5c12496fd3f"
      },
      "execution_count": null,
      "outputs": [
        {
          "output_type": "stream",
          "name": "stdout",
          "text": [
            "Digita un número: 4\n",
            "No es primo\n"
          ]
        }
      ]
    },
    {
      "cell_type": "code",
      "source": [
        "# OTRA OPCION"
      ],
      "metadata": {
        "id": "GBBd-ZE9ZZff"
      },
      "execution_count": null,
      "outputs": []
    },
    {
      "cell_type": "code",
      "source": [
        "# Recopilamos el número\n",
        "num = int(input('Ingresa un número entero: '))\n",
        "\n",
        "# Los números enteros iguales o menores que 1 no se consideran primos\n",
        "if num > 1:\n",
        "    for i in range(2, num):\n",
        "        # Verificamos todos los residuos de la división entre todos los números menores que num\n",
        "        # Si algún residuo es 0, significa que es divisible por otro número además de sí mismo y 1\n",
        "        if (num % i) == 0:\n",
        "            print(f'{num} no es un número primo')\n",
        "            break\n",
        "    else:\n",
        "        print(f'{num} es un número primo')\n",
        "else:\n",
        "    print(f'{num} no es un número primo')"
      ],
      "metadata": {
        "id": "AE16zTK4b9QP"
      },
      "execution_count": null,
      "outputs": []
    },
    {
      "cell_type": "markdown",
      "source": [
        "# Ejercicios Estructuras de Datos"
      ],
      "metadata": {
        "id": "NRog1Z755Ik-"
      }
    },
    {
      "cell_type": "code",
      "source": [
        "\"\"\"1 - Crea un programa que tenga la siguiente lista con los gastos de una\n",
        "empresa de papel [2172.54, 3701.35, 3518.09, 3456.61, 3249.38, 2840.82, 3891.45,\n",
        "3075.26, 2317.64, 3219.08]\"\"\"\n",
        "\n",
        "gastos = [2172.54, 3701.35, 3518.09, 3456.61, 3249.38, 2840.82, 3891.45, 3075.26, 2317.64, 3219.08]\n",
        "\n",
        "suma = 0;\n",
        "elementos = 0;\n",
        "\n",
        "for i in gastos:\n",
        "  suma += i\n",
        "  elementos += 1\n",
        "\n",
        "promedio = suma / elementos\n",
        "print(f'Promedio: {promedio}')"
      ],
      "metadata": {
        "id": "_6e7h_lJ5PEM",
        "outputId": "88256e6b-c368-45dd-df06-3f9a94a94957",
        "colab": {
          "base_uri": "https://localhost:8080/"
        }
      },
      "execution_count": null,
      "outputs": [
        {
          "output_type": "stream",
          "name": "stdout",
          "text": [
            "Promedio: 3144.222\n"
          ]
        }
      ]
    },
    {
      "cell_type": "code",
      "source": [
        "gastos = [2172.54, 3701.35, 3518.09, 3456.61, 3249.38, 2840.82, 3891.45, 3075.26, 2317.64, 3219.08]\n",
        "suma = sum(gastos)\n",
        "elementos = len(gastos)\n",
        "\n",
        "promedio = suma / elementos\n",
        "print(f'Promedio: {promedio}')"
      ],
      "metadata": {
        "id": "LkTTDDo255VT",
        "outputId": "d29d91dd-267d-4bf0-d9d7-93ec58beb69d",
        "colab": {
          "base_uri": "https://localhost:8080/"
        }
      },
      "execution_count": null,
      "outputs": [
        {
          "output_type": "stream",
          "name": "stdout",
          "text": [
            "Promedio: 3144.222\n"
          ]
        }
      ]
    },
    {
      "cell_type": "code",
      "source": [
        "\"\"\"\n",
        "2 - Con los mismos datos de la pregunta anterior, determina cuántas compras se\n",
        "realizaron por encima de 3000 reales y calcula el porcentaje con respecto al\n",
        "total de compras.\n",
        "\"\"\"\n",
        "mayor_3000 = 0\n",
        "\n",
        "for i in gastos:\n",
        "  if i > 3000:\n",
        "    mayor_3000 +=1\n",
        "\n",
        "porcentaje = ( mayor_3000 * 100 ) / elementos\n",
        "print(f'El porcentaje de las cantidades mayores a 3000 es {porcentaje}%')"
      ],
      "metadata": {
        "id": "S5KcGebT6N_7",
        "outputId": "1584c0d6-6f77-4551-ac31-fafb3433ea69",
        "colab": {
          "base_uri": "https://localhost:8080/"
        }
      },
      "execution_count": null,
      "outputs": [
        {
          "output_type": "stream",
          "name": "stdout",
          "text": [
            "El porcentaje de las cantidades mayores a 3000 es 70.0%\n"
          ]
        }
      ]
    },
    {
      "cell_type": "code",
      "source": [
        "\"\"\"\n",
        "3 - Crea un código que recoja en una lista 5 números enteros aleatorios e\n",
        "imprima la lista. Ejemplo: [1, 4, 7, 2, 4].\n",
        "\"\"\"\n",
        "lista = []\n",
        "\n",
        "for i in range(1,6):\n",
        "  numero = int(input('Digita un numero: '))\n",
        "  lista.append(numero)\n",
        "\n",
        "print(lista)"
      ],
      "metadata": {
        "id": "7T-Slv5Q7rMp",
        "outputId": "467ffd96-7f41-4937-fd1e-7e3ac932ebd5",
        "colab": {
          "base_uri": "https://localhost:8080/"
        }
      },
      "execution_count": null,
      "outputs": [
        {
          "output_type": "stream",
          "name": "stdout",
          "text": [
            "Digita un numero: 10\n",
            "Digita un numero: 2\n",
            "Digita un numero: 4\n",
            "Digita un numero: 2\n",
            "Digita un numero: 3\n",
            "[10, 2, 4, 2, 3]\n"
          ]
        }
      ]
    },
    {
      "cell_type": "code",
      "source": [
        "\"\"\"\n",
        "4 - Recoge nuevamente 5 números enteros e imprime la lista en orden inverso al\n",
        "enviado.\n",
        "\"\"\"\n",
        "lista = []\n",
        "\n",
        "for i in range(1,6):\n",
        "  numero = int(input('Digita un numero: '))\n",
        "  lista.append(numero)\n",
        "\n",
        "lista.sort(reverse=True)\n",
        "print(lista)\n"
      ],
      "metadata": {
        "id": "krzayqev8TZz",
        "outputId": "a6681f2c-8869-4a2e-f6c8-569369e3a3df",
        "colab": {
          "base_uri": "https://localhost:8080/"
        }
      },
      "execution_count": null,
      "outputs": [
        {
          "output_type": "stream",
          "name": "stdout",
          "text": [
            "Digita un numero: 6\n",
            "Digita un numero: 7\n",
            "Digita un numero: 8\n",
            "Digita un numero: 9\n",
            "Digita un numero: 10\n",
            "[10, 9, 8, 7, 6]\n"
          ]
        }
      ]
    },
    {
      "cell_type": "code",
      "source": [
        "# con for\n",
        "for i in range(len(lista) -1, -1, -1):\n",
        "  print(lista[i])"
      ],
      "metadata": {
        "id": "AKtHndWY80ZJ",
        "outputId": "3033f68f-5df7-4dd6-c929-d3dd50dd086a",
        "colab": {
          "base_uri": "https://localhost:8080/"
        }
      },
      "execution_count": null,
      "outputs": [
        {
          "output_type": "stream",
          "name": "stdout",
          "text": [
            "6\n",
            "7\n",
            "8\n",
            "9\n",
            "10\n"
          ]
        }
      ]
    },
    {
      "cell_type": "code",
      "source": [
        "\"\"\"\n",
        "5 - Crea un programa que, al ingresar un número cualquiera, genere una lista que\n",
        "contenga todos los números primos entre 1 y el número ingresado.\n",
        "\"\"\"\n",
        "def numero_primo(numero_a_analizar):\n",
        "    if numero_a_analizar < 2:\n",
        "        return False  # No es primo\n",
        "    else:\n",
        "        es_primo = True\n",
        "        for i in range(2, numero_a_analizar):  # Recorre los números menores\n",
        "            if numero_a_analizar % i == 0:  # Si encuentra un divisor, ya no es primo\n",
        "                es_primo = False\n",
        "                break\n",
        "        return es_primo  # Devuelve si es primo o no\n",
        "\n",
        "lista_primos = []\n",
        "numero_limite = int(input('Digite el número límite: '))\n",
        "\n",
        "for i in range(1, numero_limite + 1):\n",
        "    if numero_primo(i):  # Si la función devuelve True, es primo\n",
        "        lista_primos.append(i)  # Se agrega el número correcto\n",
        "\n",
        "print(\"Lista de números primos:\", lista_primos)\n",
        "\n",
        "\n"
      ],
      "metadata": {
        "id": "yIQKiqfr-MVS",
        "outputId": "346d49a8-52e2-4144-a7db-64d9eec5d510",
        "colab": {
          "base_uri": "https://localhost:8080/"
        }
      },
      "execution_count": null,
      "outputs": [
        {
          "output_type": "stream",
          "name": "stdout",
          "text": [
            "Digite el número límite: 7\n",
            "Lista de números primos: [2, 3, 5, 7]\n"
          ]
        }
      ]
    },
    {
      "cell_type": "code",
      "source": [],
      "metadata": {
        "id": "mmmrpTZzDVTD"
      },
      "execution_count": null,
      "outputs": []
    },
    {
      "cell_type": "markdown",
      "source": [
        "# Ejercicios Funciones"
      ],
      "metadata": {
        "id": "3wlmzkzMRQXg"
      }
    },
    {
      "cell_type": "code",
      "source": [
        "# Escribe un codigo que lee la lista siguiente y realiza:\n",
        "# 1. Leer el tamaño de la lista\n",
        "# 2. Leer el valor máximo y mínimo\n",
        "# 3. Calcular la suma de los valores de la lista\n",
        "# 4. Mostrar un mensaje al final: La lista tiene `tamano` números, donde el mayor\n",
        "# es `mayor` y el menor es `menor`. La suma de los valores es `suma`.\n",
        "\n",
        "lista = [16, 14, 63, 65, 17, 99, 70, 11, 20, 48, 79, 32, 17, 89, 12, 25, 66]\n",
        "\n",
        "print(len(lista))\n",
        "print(f'El valor maximo es: {max(lista)}, el valor minimo es: {min(lista)}')\n",
        "print(sum(lista))"
      ],
      "metadata": {
        "id": "iltSDuFdRZm0",
        "outputId": "b56b29eb-e1a5-4a2d-d7fc-8dc72a878ac8",
        "colab": {
          "base_uri": "https://localhost:8080/"
        }
      },
      "execution_count": null,
      "outputs": [
        {
          "output_type": "stream",
          "name": "stdout",
          "text": [
            "17\n",
            "El valor maximo es: 99, el valor minimo es: 11\n",
            "743\n"
          ]
        }
      ]
    },
    {
      "cell_type": "code",
      "source": [
        "\"\"\"\n",
        "2 - Escribe una función que genere la tabla de multiplicar de un número entero\n",
        "del 1 al 10, según la elección del usuario. Como ejemplo, para el número 7, la\n",
        "tabla de multiplicar se debe mostrar en el siguiente formato:\n",
        "\"\"\"\n",
        "\n",
        "n = int(input('Digita el numero: '))\n",
        "\n",
        "for i in range(0,11):\n",
        "  print(f'{n} X {i} = {n*i}')\n"
      ],
      "metadata": {
        "id": "qwHOI001SEmQ",
        "outputId": "c215669c-f384-460d-9f40-ac006b2cbb77",
        "colab": {
          "base_uri": "https://localhost:8080/"
        }
      },
      "execution_count": null,
      "outputs": [
        {
          "output_type": "stream",
          "name": "stdout",
          "text": [
            "Digita el numero: 5\n",
            "5 X 0 = 0\n",
            "5 X 1 = 5\n",
            "5 X 2 = 10\n",
            "5 X 3 = 15\n",
            "5 X 4 = 20\n",
            "5 X 5 = 25\n",
            "5 X 6 = 30\n",
            "5 X 7 = 35\n",
            "5 X 8 = 40\n",
            "5 X 9 = 45\n",
            "5 X 10 = 50\n"
          ]
        }
      ]
    },
    {
      "cell_type": "code",
      "source": [
        "\"\"\"\n",
        "3 - Crea una función que lea la siguiente lista y devuelva una nueva lista con\n",
        "los múltiplos de 3:\n",
        "\"\"\"\n",
        "lista_base = [97, 80, 94, 88, 80, 1, 16, 53, 62, 32, 24, 99]\n",
        "multiplos_de_tres = []\n",
        "\n",
        "for i in lista_base:\n",
        "  if i % 3 == 0:\n",
        "    multiplos_de_tres.append(i)\n",
        "\n",
        "print(multiplos_de_tres)\n"
      ],
      "metadata": {
        "id": "M-tSp3_0ShMS",
        "outputId": "fce7e778-822e-47d4-933b-1ccdd1441d8b",
        "colab": {
          "base_uri": "https://localhost:8080/"
        }
      },
      "execution_count": null,
      "outputs": [
        {
          "output_type": "stream",
          "name": "stdout",
          "text": [
            "[24, 99]\n"
          ]
        }
      ]
    },
    {
      "cell_type": "code",
      "source": [
        "\"\"\"\n",
        "4 - Crea una lista de los cuadrados de los números de la siguiente lista\n",
        "[1, 2, 3, 4, 5, 6, 7, 8, 9, 10].\n",
        "Recuerda utilizar las funciones lambda y map() para calcular el cuadrado de\n",
        "cada elemento de la lista.\n",
        "\"\"\"\n",
        "\n",
        "lista_dos_base = [1, 2, 3, 4, 5, 6, 7, 8, 9, 10]\n",
        "\n",
        "cuadrados = map(lambda x: x**2, lista_dos_base)\n",
        "print(cuadrados)"
      ],
      "metadata": {
        "id": "f4gC2iuGTRV6",
        "outputId": "b21048ce-a7ef-41e1-cd78-bb17df3e79df",
        "colab": {
          "base_uri": "https://localhost:8080/"
        }
      },
      "execution_count": null,
      "outputs": [
        {
          "output_type": "stream",
          "name": "stdout",
          "text": [
            "<map object at 0x79ba66bc43a0>\n"
          ]
        }
      ]
    },
    {
      "cell_type": "code",
      "source": [
        "\"\"\"\n",
        "5 - Has sido contratado como científico(a) de datos de una asociación de skate.\n",
        "Para analizar las notas recibidas por los skaters en algunas competiciones a lo\n",
        "largo del año, necesitas crear un código que calcule la puntuación de los\n",
        "atletas. Para ello, tu código debe recibir 5 notas ingresadas por los jueces.\n",
        "\"\"\"\n",
        "notas = [float(input(f\"Ingrese la nota {i + 1}: \")) for i in range(5)]\n",
        "notas.sort()\n",
        "media = sum(notas[1:4]) / 3\n",
        "print(f\"Nota de la maniobra: {media:.2f}\")"
      ],
      "metadata": {
        "id": "aCrPdlqCVhVy",
        "colab": {
          "base_uri": "https://localhost:8080/"
        },
        "outputId": "1c073275-3b18-4a81-e451-9316c69c08c3"
      },
      "execution_count": 1,
      "outputs": [
        {
          "output_type": "stream",
          "name": "stdout",
          "text": [
            "Ingrese la nota 1: 10\n",
            "Ingrese la nota 2: 8\n",
            "Ingrese la nota 3: 9\n",
            "Ingrese la nota 4: 7\n",
            "Ingrese la nota 5: 10\n",
            "Nota de la maniobra: 9.00\n"
          ]
        }
      ]
    },
    {
      "cell_type": "code",
      "source": [
        "\"\"\"\n",
        "6 - Para cumplir con una demanda de una institución educativa para el análisis\n",
        "del rendimiento de sus estudiantes, necesitas crear una función que reciba una\n",
        "lista de 4 notas y devuelva:\n",
        "\"\"\"\n",
        "def analisis_notas(notas):\n",
        "    mayor = max(notas)\n",
        "    menor = min(notas)\n",
        "    media = sum(notas) / len(notas)\n",
        "    situacion = \"Aprobado\" if media >= 6 else \"Reprobado\"\n",
        "    return mayor, menor, media, situacion\n",
        "\n",
        "# Uso de la función\n",
        "notas_estudiante = [float(input(f\"Ingrese la nota {i + 1}: \")) for i in range(4)]\n",
        "resultado = analisis_notas(notas_estudiante)\n",
        "print(f\"El estudiante obtuvo una media de {resultado[2]:.2f}, con la mayor nota de {resultado[0]:.2f} puntos y la menor nota de {resultado[1]:.2f} puntos y fue {resultado[3]}\")"
      ],
      "metadata": {
        "id": "S-3eLEPgjpyd"
      },
      "execution_count": null,
      "outputs": []
    },
    {
      "cell_type": "code",
      "source": [
        "\"\"\"\n",
        "7 - Has recibido una demanda para tratar 2 listas con los nombres y apellidos\n",
        "de cada estudiante concatenándolos para presentar sus nombres completos en la\n",
        "forma Nombre Apellido. Las listas son:\n",
        "\"\"\"\n",
        "nombres = [\"juan\", \"MaRia\", \"JOSÉ\"]\n",
        "sobrenombres = [\"SILVA\", \"sosa\", \"Tavares\"]\n",
        "\n",
        "# Normalizar nombres y apellidos y crear una nueva lista con los nombres completos\n",
        "nombres_normalizados = list(map(lambda x: x.capitalize(), nombres))\n",
        "sobrenombres_normalizados = map(lambda x: x.capitalize(), sobrenombres)\n",
        "nombres_completos = list(map(lambda x, y: f\"Nome completo: {x} {y}\", nombres_normalizados, sobrenombres_normalizados))\n",
        "print(nombres_completos)"
      ],
      "metadata": {
        "colab": {
          "base_uri": "https://localhost:8080/"
        },
        "id": "dAL_M-rUj-Qq",
        "outputId": "01b3ea6c-762b-4a39-c8ac-0a53100d86e6"
      },
      "execution_count": 4,
      "outputs": [
        {
          "output_type": "stream",
          "name": "stdout",
          "text": [
            "['Juan', 'Maria', 'José']\n",
            "['Nome completo: Juan Silva', 'Nome completo: Maria Sosa', 'Nome completo: José Tavares']\n"
          ]
        }
      ]
    },
    {
      "cell_type": "markdown",
      "source": [
        "# Ejercicios Excepciones"
      ],
      "metadata": {
        "id": "5rcA7aKvtcPR"
      }
    },
    {
      "cell_type": "code",
      "source": [
        "\"\"\"\n",
        "1 - Haz un programa que solicite a la persona usuaria ingresar dos números\n",
        "decimales y calcular la división entre estos números. El código debe incluir un\n",
        "manejo de error, indicando el tipo de error que se generó si la división no es\n",
        "posible.\n",
        "\"\"\"\n",
        "try:\n",
        "    num1 = float(input(\"Ingrese el primer número: \"))\n",
        "    num2 = float(input(\"Ingrese el segundo número: \"))\n",
        "    resultado = num1 / num2\n",
        "    print(\"El resultado de la división es:\", resultado)\n",
        "except ZeroDivisionError:\n",
        "    print(\"Error: No se puede dividir por cero.\")\n",
        "except ValueError as e:\n",
        "    print(f\"Error: {e}\")"
      ],
      "metadata": {
        "id": "n9MbHL6Itb4p",
        "outputId": "19bfea02-9885-4f5c-9f30-0504e53cd48c",
        "colab": {
          "base_uri": "https://localhost:8080/"
        }
      },
      "execution_count": 7,
      "outputs": [
        {
          "output_type": "stream",
          "name": "stdout",
          "text": [
            "Ingrese el primer número: 10\n",
            "Ingrese el segundo número: 0\n",
            "Error: No se puede dividir por cero.\n"
          ]
        }
      ]
    },
    {
      "cell_type": "code",
      "source": [
        "\"\"\"\n",
        "2 - Haz un programa que solicite a la persona usuaria ingresar un texto que será\n",
        "una clave a buscar en el siguiente diccionario: edades = {'Júlia': 16, 'Carol':\n",
        "23, 'Alberto': 19, 'Roberta': 17}, almacenando el resultado del valor en una variable.\n",
        "El código debe incluir un manejo de error KeyError, imprimiendo la información\n",
        "'Nombre no encontrado' en caso de error, e imprimir el valor si no ocurre ninguno.\n",
        "\"\"\"\n",
        "edades = {'Júlia': 16, 'Carol': 23, 'Alberto': 19, 'Roberta': 17}\n",
        "try:\n",
        "    nombre = input(\"Ingrese un nombre para buscar en el diccionario: \")\n",
        "    edad = edades[nombre]\n",
        "    print(f\"La edad de {nombre} es {edad} años.\")\n",
        "except KeyError:\n",
        "    print(\"Error: Nombre no encontrado.\")"
      ],
      "metadata": {
        "colab": {
          "base_uri": "https://localhost:8080/"
        },
        "id": "WhUxgNQukPUy",
        "outputId": "72813cab-f812-4e9c-9617-dcc5fa20fa8c"
      },
      "execution_count": 8,
      "outputs": [
        {
          "output_type": "stream",
          "name": "stdout",
          "text": [
            "Ingrese un nombre para buscar en el diccionario: Naydelin\n",
            "Error: Nombre no encontrado.\n"
          ]
        }
      ]
    },
    {
      "cell_type": "code",
      "source": [
        "\"\"\"\n",
        "3 - Crea una función que reciba una lista como parámetro y convierta todos los\n",
        "valores de la lista a flotantes. La función debe incluir un manejo de error\n",
        "indicando el tipo de error generado y devolver la lista si no ha ocurrido ningún\n",
        "error. Por último, debe tener la cláusula finally para imprimir el texto:\n",
        "'Fin de la ejecución de la función'.\n",
        "\"\"\"\n",
        "def convertir_a_float(lista):\n",
        "    try:\n",
        "        nueva_lista = [float(valor) for valor in lista]\n",
        "        return nueva_lista\n",
        "    except ValueError as e:\n",
        "        print(f\"Error: {e}\")\n",
        "    finally:\n",
        "        print(\"Fin de la ejecución de la función\")\n",
        "\n",
        "# Ejemplo de uso:\n",
        "lista_original = ['4', '2', '7', 'a']\n",
        "lista_convertida = convertir_a_float(lista_original)\n",
        "print(lista_convertida)"
      ],
      "metadata": {
        "id": "_3xtRRXAvQs_",
        "outputId": "77c50024-951a-41cc-f23b-1b19074af967",
        "colab": {
          "base_uri": "https://localhost:8080/"
        }
      },
      "execution_count": 10,
      "outputs": [
        {
          "output_type": "stream",
          "name": "stdout",
          "text": [
            "Error: could not convert string to float: 'a'\n",
            "Fin de la ejecución de la función\n",
            "None\n"
          ]
        }
      ]
    },
    {
      "cell_type": "code",
      "source": [
        "\"\"\"\n",
        "4 - Crea una función que reciba dos listas como parámetros y agrupe los elementos\n",
        "uno a uno de las listas, formando una lista de tuplas de 3 elementos. El primer\n",
        "y segundo elemento de la tupla son los valores en la posición i de las listas y\n",
        "el tercer elemento es la suma de los valores en la posición i de las listas.\n",
        "\n",
        "La función debe incluir un manejo de error indicando el tipo de error generado y\n",
        "devolver como resultado la lista de tuplas. Si las listas enviadas como parámetro\n",
        "tienen tamaños diferentes, la función debe devolver un IndexError con la frase:\n",
        "'La cantidad de elementos en cada lista es diferente.'.\n",
        "\"\"\"\n",
        "def agrupar_listas(lista1, lista2):\n",
        "    try:\n",
        "        if len(lista1) != len(lista2):\n",
        "            raise IndexError(\"La cantidad de elementos en cada lista es diferente.\")\n",
        "\n",
        "        lista_resultado = [(lista1[i], lista2[i], lista1[i] + lista2[i]) for i in range(len(lista1))]\n",
        "        return lista_resultado\n",
        "    except TypeError as e:\n",
        "        print(f\"Error: {e}\")\n",
        "    except IndexError as e:\n",
        "        print(f\"Error: {e}\")\n",
        "\n",
        "# Ejemplos de uso:\n",
        "try:\n",
        "    resultado_sin_error = agrupar_listas([4, 6, 7, 9, 10], [-4, 6, 8, 7, 9])\n",
        "    print(resultado_sin_error)\n",
        "\n",
        "    resultado_tamanos_diferentes = agrupar_listas([4, 6, 7, 9, 10, 4], [-4, 6, 8, 7, 9])\n",
        "    print(resultado_tamanos_diferentes)\n",
        "\n",
        "    resultado_valores_incoherentes = agrupar_listas([4, 6, 7, 9, 'A'], [-4, 'E', 8, 7, 9])\n",
        "    print(resultado_valores_incoherentes)\n",
        "except Exception as e:\n",
        "    print(f\"Error general: {e}\")"
      ],
      "metadata": {
        "id": "oE-gQkscv89I"
      },
      "execution_count": null,
      "outputs": []
    },
    {
      "cell_type": "code",
      "source": [],
      "metadata": {
        "id": "_7RS8taexF6c"
      },
      "execution_count": null,
      "outputs": []
    }
  ]
}
