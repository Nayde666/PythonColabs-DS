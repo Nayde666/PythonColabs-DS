{
  "nbformat": 4,
  "nbformat_minor": 0,
  "metadata": {
    "colab": {
      "provenance": [],
      "authorship_tag": "ABX9TyM3EVne7wcYGO9XryYALIzT",
      "include_colab_link": true
    },
    "kernelspec": {
      "name": "python3",
      "display_name": "Python 3"
    },
    "language_info": {
      "name": "python"
    }
  },
  "cells": [
    {
      "cell_type": "markdown",
      "metadata": {
        "id": "view-in-github",
        "colab_type": "text"
      },
      "source": [
        "<a href=\"https://colab.research.google.com/github/Nayde666/PythonColabs-DS/blob/main/Ejercicios%20curso%202.ipynb\" target=\"_parent\"><img src=\"https://colab.research.google.com/assets/colab-badge.svg\" alt=\"Open In Colab\"/></a>"
      ]
    },
    {
      "cell_type": "markdown",
      "source": [
        "# Ejercicicios\n",
        "Curso Pythonpara Data Science"
      ],
      "metadata": {
        "id": "kO-pxzbny7yl"
      }
    },
    {
      "cell_type": "code",
      "execution_count": 2,
      "metadata": {
        "colab": {
          "base_uri": "https://localhost:8080/",
          "height": 531
        },
        "id": "x3OIB7f6y34b",
        "outputId": "321efd1f-7b73-406b-ac58-293dae1ac399"
      },
      "outputs": [
        {
          "output_type": "stream",
          "name": "stdout",
          "text": [
            "Collecting matplotlib==3.7.1\n",
            "  Downloading matplotlib-3.7.1-cp311-cp311-manylinux_2_17_x86_64.manylinux2014_x86_64.whl.metadata (5.6 kB)\n",
            "Requirement already satisfied: contourpy>=1.0.1 in /usr/local/lib/python3.11/dist-packages (from matplotlib==3.7.1) (1.3.2)\n",
            "Requirement already satisfied: cycler>=0.10 in /usr/local/lib/python3.11/dist-packages (from matplotlib==3.7.1) (0.12.1)\n",
            "Requirement already satisfied: fonttools>=4.22.0 in /usr/local/lib/python3.11/dist-packages (from matplotlib==3.7.1) (4.57.0)\n",
            "Requirement already satisfied: kiwisolver>=1.0.1 in /usr/local/lib/python3.11/dist-packages (from matplotlib==3.7.1) (1.4.8)\n",
            "Requirement already satisfied: numpy>=1.20 in /usr/local/lib/python3.11/dist-packages (from matplotlib==3.7.1) (2.0.2)\n",
            "Requirement already satisfied: packaging>=20.0 in /usr/local/lib/python3.11/dist-packages (from matplotlib==3.7.1) (24.2)\n",
            "Requirement already satisfied: pillow>=6.2.0 in /usr/local/lib/python3.11/dist-packages (from matplotlib==3.7.1) (11.2.1)\n",
            "Requirement already satisfied: pyparsing>=2.3.1 in /usr/local/lib/python3.11/dist-packages (from matplotlib==3.7.1) (3.2.3)\n",
            "Requirement already satisfied: python-dateutil>=2.7 in /usr/local/lib/python3.11/dist-packages (from matplotlib==3.7.1) (2.9.0.post0)\n",
            "Requirement already satisfied: six>=1.5 in /usr/local/lib/python3.11/dist-packages (from python-dateutil>=2.7->matplotlib==3.7.1) (1.17.0)\n",
            "Downloading matplotlib-3.7.1-cp311-cp311-manylinux_2_17_x86_64.manylinux2014_x86_64.whl (11.6 MB)\n",
            "\u001b[2K   \u001b[90m━━━━━━━━━━━━━━━━━━━━━━━━━━━━━━━━━━━━━━━━\u001b[0m \u001b[32m11.6/11.6 MB\u001b[0m \u001b[31m98.7 MB/s\u001b[0m eta \u001b[36m0:00:00\u001b[0m\n",
            "\u001b[?25hInstalling collected packages: matplotlib\n",
            "  Attempting uninstall: matplotlib\n",
            "    Found existing installation: matplotlib 3.10.0\n",
            "    Uninstalling matplotlib-3.10.0:\n",
            "      Successfully uninstalled matplotlib-3.10.0\n",
            "\u001b[31mERROR: pip's dependency resolver does not currently take into account all the packages that are installed. This behaviour is the source of the following dependency conflicts.\n",
            "plotnine 0.14.5 requires matplotlib>=3.8.0, but you have matplotlib 3.7.1 which is incompatible.\u001b[0m\u001b[31m\n",
            "\u001b[0mSuccessfully installed matplotlib-3.7.1\n"
          ]
        },
        {
          "output_type": "display_data",
          "data": {
            "application/vnd.colab-display-data+json": {
              "pip_warning": {
                "packages": [
                  "matplotlib",
                  "mpl_toolkits"
                ]
              },
              "id": "4f3e142a21c349119a19bef5993f999a"
            }
          },
          "metadata": {}
        }
      ],
      "source": [
        "# 1 - Escribe un código para instalar la versión 3.7.1 de la biblioteca matplotlib.\n",
        "!pip install matplotlib==3.7.1"
      ]
    },
    {
      "cell_type": "code",
      "source": [
        "#1 - Escribe un código para instalar la versión 3.7.1 de la biblioteca matplotlib.\n",
        "import numpy as np"
      ],
      "metadata": {
        "id": "fWWCxLVpzdYv"
      },
      "execution_count": 1,
      "outputs": []
    },
    {
      "cell_type": "code",
      "source": [
        "#3 - Crea un programa que lea la siguiente lista de números y elija uno al azar.\n",
        "from random import choice, randint\n",
        "lista = [8, 12, 54, 23, 43, 1, 90, 87, 105, 77]\n",
        "\n",
        "numero_azar = choice(lista)\n",
        "numero_azar\n"
      ],
      "metadata": {
        "colab": {
          "base_uri": "https://localhost:8080/"
        },
        "id": "EFeVyLrQz0Mo",
        "outputId": "0f9bd4d6-2eae-4b14-a586-678a5870d598"
      },
      "execution_count": 4,
      "outputs": [
        {
          "output_type": "execute_result",
          "data": {
            "text/plain": [
              "87"
            ]
          },
          "metadata": {},
          "execution_count": 4
        }
      ]
    },
    {
      "cell_type": "code",
      "source": [
        "#4 - Crea un programa que genere aleatoriamente un número entero menor que 100.\n",
        "numero_azar_1_a_100 = randint(1,100)\n",
        "numero_azar_1_a_100"
      ],
      "metadata": {
        "colab": {
          "base_uri": "https://localhost:8080/"
        },
        "id": "X7gcJq7E0Zh5",
        "outputId": "dd258814-3068-4fc0-93ae-c3d880d2b15e"
      },
      "execution_count": 6,
      "outputs": [
        {
          "output_type": "execute_result",
          "data": {
            "text/plain": [
              "66"
            ]
          },
          "metadata": {},
          "execution_count": 6
        }
      ]
    },
    {
      "cell_type": "code",
      "source": [
        "\"\"\"\n",
        "5 - Crea un programa que solicite a la persona usuaria ingresar dos números\n",
        "enteros y calcule la potencia del primer número elevado al segundo.\n",
        "\"\"\"\n",
        "numero_base = int(input('Ingresa el primer numero'))\n",
        "numero_exponente = int(input('Ingresa el segundo numero'))\n",
        "\n",
        "resultado = numero_base**numero_exponente\n",
        "print(resultado)\n"
      ],
      "metadata": {
        "colab": {
          "base_uri": "https://localhost:8080/"
        },
        "id": "DdcUXJA-1rnJ",
        "outputId": "e15895d9-1b62-4a5c-a4c6-24ab676da79f"
      },
      "execution_count": 7,
      "outputs": [
        {
          "output_type": "stream",
          "name": "stdout",
          "text": [
            "Ingresa el primer numero2\n",
            "Ingresa el segundo numero5\n",
            "32\n"
          ]
        }
      ]
    },
    {
      "cell_type": "code",
      "source": [
        "#Otra manera\n",
        "import math\n",
        "num1 = int(input(\"Ingrese el primer número entero: \"))\n",
        "num2 = int(input(\"Ingrese el segundo número entero: \"))\n",
        "resultado = math.pow(num1, num2)\n",
        "print(f\"La potencia de {num1} elevado a {num2} es {resultado}\")"
      ],
      "metadata": {
        "colab": {
          "base_uri": "https://localhost:8080/"
        },
        "id": "bLbyONxX7aF-",
        "outputId": "1dea6d32-7577-4528-9fc3-32611484cb8b"
      },
      "execution_count": 26,
      "outputs": [
        {
          "output_type": "stream",
          "name": "stdout",
          "text": [
            "Ingrese el primer número entero: 2\n",
            "Ingrese el segundo número entero: 5\n",
            "La potencia de 2 elevado a 5 es 32.0\n"
          ]
        }
      ]
    },
    {
      "cell_type": "code",
      "source": [
        "\"\"\"\n",
        "6 - Se debe escribir un programa para sortear a un seguidor de una red social\n",
        "para ganar un premio. La lista de participantes está numerada y debemos elegir\n",
        "aleatoriamente un número según la cantidad de participantes. Pide a la persona\n",
        "usuaria que proporcione el número de participantes del sorteo y devuelve el\n",
        "número sorteado.\n",
        "\"\"\"\n",
        "num_particioantes = int(input('¿Cuántos participantes hay?'))\n",
        "\n",
        "ganador = randint(1,num_particioantes)\n",
        "print(f'El ganador es el numero {ganador}')"
      ],
      "metadata": {
        "colab": {
          "base_uri": "https://localhost:8080/"
        },
        "id": "P6i-K1oS2XcL",
        "outputId": "fa390f25-a8e2-4b00-a5db-45425b41f941"
      },
      "execution_count": 8,
      "outputs": [
        {
          "output_type": "stream",
          "name": "stdout",
          "text": [
            "¿Cuántos participantes hay?30\n",
            "El ganador es el numero 21\n"
          ]
        }
      ]
    },
    {
      "cell_type": "code",
      "source": [
        "\"\"\"\n",
        "7 - Has recibido una solicitud para generar números de token para acceder a la\n",
        "aplicación de una empresa. El token debe ser par y variar de 1000 a 9998.\n",
        "Escribe un código que solicite el nombre de la persona usuaria y muestre un\n",
        "mensaje junto a este token generado aleatoriamente.\n",
        "\"\"\"\n",
        "from random import randrange\n",
        "\n",
        "nombre_usuario = input('Ingresa tu nombre: ')\n",
        "token = randrange(1000, 9998,2)\n",
        "\n",
        "print(f\"Hola, {nombre_usuario}, tu token de acceso es {token} ¡Bienvenido/a!\")"
      ],
      "metadata": {
        "colab": {
          "base_uri": "https://localhost:8080/"
        },
        "id": "CMBqfSJF28IZ",
        "outputId": "9961d0ff-a00b-4b64-c74e-a82817a7e1ed"
      },
      "execution_count": 17,
      "outputs": [
        {
          "output_type": "stream",
          "name": "stdout",
          "text": [
            "Ingresa tu nombre: Nay\n",
            "Hola, Nay, tu token de acceso es 4138 ¡Bienvenido/a!\n"
          ]
        }
      ]
    },
    {
      "cell_type": "code",
      "source": [
        "\"\"\"\n",
        "8 - Para diversificar y atraer nuevos clientes, una lanchonete creó un ítem\n",
        "misterioso en su menú llamado \"ensalada de frutas sorpresa\". En este ítem, se\n",
        "eligen aleatoriamente 3 frutas de una lista de 12 para componer la ensalada de\n",
        "frutas del cliente. Crea el código que realice esta selección aleatoria según\n",
        "la lista dada.\n",
        "\"\"\"\n",
        "\n",
        "from random import choice\n",
        "\n",
        "frutas = [\"manzana\", \"banana\", \"uva\", \"pera\", \"mango\", \"coco\", \"sandia\", \"fresa\", \"naranja\", \"maracuya\", \"kiwi\", \"cereza\"]\n",
        "\n",
        "ensalada_frutas_misteriosas = []\n",
        "\n",
        "for i in range(1,4):\n",
        "  fruta = choice(frutas)\n",
        "  ensalada_frutas_misteriosas.append(fruta)\n",
        "\n",
        "print(f'La frutas misteriosas son: {ensalada_frutas_misteriosas}')\n"
      ],
      "metadata": {
        "colab": {
          "base_uri": "https://localhost:8080/"
        },
        "id": "pzoTlIn33nZR",
        "outputId": "878c0f2d-2efd-43ec-ec85-5fd5f677f00c"
      },
      "execution_count": 19,
      "outputs": [
        {
          "output_type": "stream",
          "name": "stdout",
          "text": [
            "La frutas misteriosas son: ['cereza', 'kiwi', 'sandia']\n"
          ]
        }
      ]
    },
    {
      "cell_type": "code",
      "source": [
        "# Otra manera usando sample\n",
        "\n",
        "# Si tienes una lista y necesitas elegir varios elementos sin que se repitan, sample() es ideal.\n",
        "from random import sample\n",
        "\n",
        "frutas = [\"manzana\", \"banana\", \"uva\", \"pera\", \"mango\", \"coco\", \"sandia\", \"fresa\", \"naranja\", \"maracuya\", \"kiwi\", \"cereza\"]\n",
        "\n",
        "# Seleccionar 3 frutas al azar\n",
        "ensalada_frutas_misteriosas = sample(frutas, 3)\n",
        "\n",
        "# Imprimir sin corchetes y con formato más natural\n",
        "print(f'Las frutas misteriosas son: {\", \".join(ensalada_frutas_misteriosas)}')\n"
      ],
      "metadata": {
        "colab": {
          "base_uri": "https://localhost:8080/"
        },
        "id": "rBE8GcWB5N5o",
        "outputId": "dc8ebc38-3912-4051-ac39-1a30ac614cdc"
      },
      "execution_count": 21,
      "outputs": [
        {
          "output_type": "stream",
          "name": "stdout",
          "text": [
            "Las frutas misteriosas son: cereza, naranja, maracuya\n"
          ]
        }
      ]
    },
    {
      "cell_type": "code",
      "source": [
        "\"\"\"\n",
        "9 - Has recibido un desafío para calcular la raíz cuadrada de una lista de\n",
        "números, identificando cuáles resultan en un número entero. La lista es la\n",
        "siguiente:\n",
        "\"\"\"\n",
        "from math import sqrt\n",
        "\n",
        "raices = []\n",
        "raices_num_entero = []\n",
        "numeros = [2, 8, 15, 23, 91, 112, 256]\n",
        "\n",
        "for num in numeros:\n",
        "    raiz_cuadrada = sqrt(num)\n",
        "    raices.append(raiz_cuadrada)\n",
        "\n",
        "    # Verificar si es entero comparando con su conversión a int\n",
        "    if raiz_cuadrada == int(raiz_cuadrada):\n",
        "        raices_num_entero.append(int(raiz_cuadrada))\n",
        "\n",
        "print(\"Raíces cuadradas:\", raices)\n",
        "print(\"Raíces cuadradas que son números enteros:\", raices_num_entero)\n"
      ],
      "metadata": {
        "colab": {
          "base_uri": "https://localhost:8080/"
        },
        "id": "gJvp_YjK5gY0",
        "outputId": "3677d6ed-97d8-4c22-812f-7a13e94bb672"
      },
      "execution_count": 24,
      "outputs": [
        {
          "output_type": "stream",
          "name": "stdout",
          "text": [
            "Raíces cuadradas: [1.4142135623730951, 2.8284271247461903, 3.872983346207417, 4.795831523312719, 9.539392014169456, 10.583005244258363, 16.0]\n",
            "Raíces cuadradas que son números enteros: [16]\n"
          ]
        }
      ]
    },
    {
      "cell_type": "code",
      "source": [
        "\"\"\"\n",
        "10 - Haz un programa para una tienda que vende césped para jardines. Esta tienda\n",
        "trabaja con jardines circulares y el precio del metro cuadrado de césped es de\n",
        "R$ 25,00. Pide a la persona usuaria el radio del área circular y devuelve el\n",
        "valor en reales de cuánto tendrá que pagar.\n",
        "\"\"\"\n",
        "import math\n",
        "\n",
        "# Precio por metro cuadrado de césped\n",
        "precio_por_m2 = 25.00\n",
        "\n",
        "# Solicitar el radio del jardín\n",
        "radio = float(input(\"Ingrese el radio del jardín en metros: \"))\n",
        "\n",
        "# Calcular el área del círculo (π * r²)\n",
        "area = math.pi * (radio ** 2)\n",
        "\n",
        "# Calcular el costo total\n",
        "costo_total = area * precio_por_m2\n",
        "\n",
        "# Mostrar el resultado con formato adecuado\n",
        "print(f\"El costo total para cubrir el jardín es: R$ {costo_total:.2f}\")"
      ],
      "metadata": {
        "colab": {
          "base_uri": "https://localhost:8080/"
        },
        "id": "viz6dVWw6Uw1",
        "outputId": "4d7ebc05-190b-45d4-c279-33c7e0ffccb3"
      },
      "execution_count": 25,
      "outputs": [
        {
          "output_type": "stream",
          "name": "stdout",
          "text": [
            "Ingrese el radio del jardín en metros: 70\n",
            "El costo total para cubrir el jardín es: R$ 384845.10\n"
          ]
        }
      ]
    },
    {
      "cell_type": "code",
      "source": [],
      "metadata": {
        "id": "PbbWaUZV7PVx"
      },
      "execution_count": null,
      "outputs": []
    }
  ]
}