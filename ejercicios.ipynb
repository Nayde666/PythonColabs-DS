{
  "nbformat": 4,
  "nbformat_minor": 0,
  "metadata": {
    "colab": {
      "provenance": [],
      "authorship_tag": "ABX9TyPVa546/dErG9m1nsAc192O",
      "include_colab_link": true
    },
    "kernelspec": {
      "name": "python3",
      "display_name": "Python 3"
    },
    "language_info": {
      "name": "python"
    }
  },
  "cells": [
    {
      "cell_type": "markdown",
      "metadata": {
        "id": "view-in-github",
        "colab_type": "text"
      },
      "source": [
        "<a href=\"https://colab.research.google.com/github/Nayde666/PythonColabs-DS/blob/main/ejercicios.ipynb\" target=\"_parent\"><img src=\"https://colab.research.google.com/assets/colab-badge.svg\" alt=\"Open In Colab\"/></a>"
      ]
    },
    {
      "cell_type": "markdown",
      "source": [
        "# Ejercicios iniciales"
      ],
      "metadata": {
        "id": "alcZuwnz9jFt"
      }
    },
    {
      "cell_type": "code",
      "execution_count": null,
      "metadata": {
        "colab": {
          "base_uri": "https://localhost:8080/"
        },
        "id": "DnZ2bqQ4OfGC",
        "outputId": "6a30c8c7-7f78-4c53-b947-0d6437bdd476"
      },
      "outputs": [
        {
          "output_type": "stream",
          "name": "stdout",
          "text": [
            "Digita tu nombre: Nay\n",
            "Hola Nay\n"
          ]
        }
      ],
      "source": [
        "# 1. Crea un programa que solicite al usuario que escriba su nombre y luego imprima Hola,nombre\n",
        "nombre = input('Digita tu nombre: ')\n",
        "print('Hola %s' %(nombre))"
      ]
    },
    {
      "cell_type": "code",
      "source": [
        "# 2. Crea un programa que solicite al usuario que escriba su nombre y edad yy luego imprima \"Hola, nombre, tienes edad años\"\n",
        "nombre = input('Escribe tu nombre: ')\n",
        "edad = int(input('Escribe tu edad: '))\n",
        "\n",
        "print('Hola %s, tienes %d años' %(nombre, edad))"
      ],
      "metadata": {
        "colab": {
          "base_uri": "https://localhost:8080/"
        },
        "id": "JAKdiS0PPHuX",
        "outputId": "187ef5e4-20ed-42fa-b6ba-809b70bc473a"
      },
      "execution_count": null,
      "outputs": [
        {
          "output_type": "stream",
          "name": "stdout",
          "text": [
            "Escribe tu nombre: Naydelin\n",
            "Escribe tu edad: 22\n",
            "Hola Naydelin, tienes 22 años\n"
          ]
        }
      ]
    },
    {
      "cell_type": "code",
      "source": [
        "# 3. Crea un programa que solicite al usuario que escriba su nombre, edad y altura en metros,\n",
        "# y luego imprima \"Hola, [nombre], tienes [edad] años y mides [altura] metros.\"\n",
        "nombre = input('Escribe tu nombre: ')\n",
        "edad = int(input('Escribe tu edad: '))\n",
        "altura = float(input('Escribe tu altura: '))\n",
        "\n",
        "print('Hola %s, tienes %d años y mides %f' %(nombre, edad, altura))"
      ],
      "metadata": {
        "colab": {
          "base_uri": "https://localhost:8080/"
        },
        "id": "oOWDuDrGP1MO",
        "outputId": "ef3fa029-f5a8-4b4c-ac1a-3113e1079cb8"
      },
      "execution_count": null,
      "outputs": [
        {
          "output_type": "stream",
          "name": "stdout",
          "text": [
            "Escribe tu nombre: Naydelin\n",
            "Escribe tu edad: 22\n",
            "Escribe tu altura: 1.70\n",
            "Hola Naydelin, tienes 22 años y mides 1.700000\n"
          ]
        }
      ]
    },
    {
      "cell_type": "code",
      "source": [
        "# CALCULADORA CON OPERADORES\n",
        "# 4 - Crea un programa que solicite dos valores numéricos al usuario y luego imprima la suma de ambos valores\n",
        "primer_numero = int(input('Digita el primer numero: '))\n",
        "segundo_numero = int(input('Digita el segundo numero: '))\n",
        "\n",
        "print(id(primer_numero), id(segundo_numero))\n",
        "\n",
        "suma = primer_numero + segundo_numero\n",
        "print(suma)"
      ],
      "metadata": {
        "colab": {
          "base_uri": "https://localhost:8080/"
        },
        "id": "gYJI-N7YQfzh",
        "outputId": "5380d636-04dc-4957-e44c-a5c78279ac9c"
      },
      "execution_count": null,
      "outputs": [
        {
          "output_type": "stream",
          "name": "stdout",
          "text": [
            "Digita el primer numero: 20\n",
            "Digita el segundo numero: 10\n",
            "10751464 10751144\n",
            "30\n"
          ]
        }
      ]
    },
    {
      "cell_type": "code",
      "source": [
        "# 5 - Crea un programa que solicite tres valores numéricos al usuario y luego imprima la suma de los tres valores.\n",
        "primer_numero = int(input('Digita el primer numero: '))\n",
        "segundo_numero = int(input('Digita el segundo numero: '))\n",
        "tercer_numero = int(input('Digita el tercer numero: '))\n",
        "\n",
        "print(id(primer_numero),id(segundo_numero), id(tercer_numero))\n",
        "\n",
        "suma = primer_numero + segundo_numero + tercer_numero\n",
        "print(suma)"
      ],
      "metadata": {
        "colab": {
          "base_uri": "https://localhost:8080/"
        },
        "id": "rZ1L3X80Q8Xh",
        "outputId": "0a99ef71-5839-407e-821c-481624845044"
      },
      "execution_count": null,
      "outputs": [
        {
          "output_type": "stream",
          "name": "stdout",
          "text": [
            "Digita el primer numero: 20\n",
            "Digita el segundo numero: 10\n",
            "Digita el tercer numero: 10\n",
            "10751464 10751144 10751144\n",
            "40\n"
          ]
        }
      ]
    },
    {
      "cell_type": "code",
      "source": [
        "# 6 - Crea un programa que solicite dos valores numéricos al usuario y luego imprima la\n",
        "# resta del primero menos el segundo valor.\n",
        "primer_numero = int(input('Digita el primer numero: '))\n",
        "segundo_numero = int(input('Digita el segundo numero: '))\n",
        "\n",
        "print(id(primer_numero), id(segundo_numero))\n",
        "\n",
        "resta = primer_numero - segundo_numero\n",
        "print(resta)\n",
        "print(id(resta))"
      ],
      "metadata": {
        "colab": {
          "base_uri": "https://localhost:8080/"
        },
        "id": "WGLd4OktRK5x",
        "outputId": "643cd357-ddcc-4c8a-ab83-abd7f9a98086"
      },
      "execution_count": null,
      "outputs": [
        {
          "output_type": "stream",
          "name": "stdout",
          "text": [
            "Digita el primer numero: 20\n",
            "Digita el segundo numero: 10\n",
            "10751464 10751144\n",
            "10\n",
            "10751144\n"
          ]
        }
      ]
    },
    {
      "cell_type": "code",
      "source": [
        "# 7 - Crea un programa que solicite dos valores numéricos al usuario y luego imprima la multiplicación de los dos valores.\n",
        "primer_numero = int(input('Digita el primer numero: '))\n",
        "segundo_numero = int(input('Digita el segundo numero: '))\n",
        "\n",
        "multiplicacion = primer_numero * segundo_numero\n",
        "print(multiplicacion)"
      ],
      "metadata": {
        "colab": {
          "base_uri": "https://localhost:8080/"
        },
        "id": "jj9_-gakR2Sq",
        "outputId": "cc0f97c6-5a19-450f-b549-c399d3d7f804"
      },
      "execution_count": null,
      "outputs": [
        {
          "output_type": "stream",
          "name": "stdout",
          "text": [
            "Digita el primer numero: 5\n",
            "Digita el segundo numero: 5\n",
            "25\n"
          ]
        }
      ]
    },
    {
      "cell_type": "code",
      "source": [
        "# 8 - Crea un programa que solicite dos valores numéricos, un numerador y un denominador, y realice la división entre los dos valores.\n",
        "# Asegúrate de que el valor del denominador no sea igual a 0.\n",
        "primer_numero = int(input('Digita el primer numero: '))\n",
        "segundo_numero = int(input('Digita el segundo numero: '))\n",
        "\n",
        "while segundo_numero == 0:\n",
        "  print('El denominador no puede ser 0')\n",
        "  segundo_numero = int(input('Digita el segundo numero: '))\n",
        "\n",
        "division = primer_numero / segundo_numero\n",
        "print('El resultado es %f' %(division))"
      ],
      "metadata": {
        "colab": {
          "base_uri": "https://localhost:8080/"
        },
        "id": "KbrutbjWSMIV",
        "outputId": "851915ed-e780-4880-b84b-b4cac105cbcb"
      },
      "execution_count": null,
      "outputs": [
        {
          "output_type": "stream",
          "name": "stdout",
          "text": [
            "Digita el primer numero: 20\n",
            "Digita el segundo numero: 0\n",
            "El denominador no puede ser 0\n",
            "Digita el segundo numero: 0\n",
            "El denominador no puede ser 0\n",
            "Digita el segundo numero: 5\n",
            "El resultado es 4.000000\n"
          ]
        }
      ]
    },
    {
      "cell_type": "code",
      "source": [
        "# 9 - Crea un programa que solicite dos valores numéricos, un operador y una potencia, y\n",
        "# realice la exponenciación entre estos dos valores.\n",
        "base = int(input('Digita la base: '))\n",
        "exponente = int(input('Digita el exponente: '))\n",
        "\n",
        "potencia = base ** exponente\n",
        "print('El resultado es: %d' %(potencia))"
      ],
      "metadata": {
        "colab": {
          "base_uri": "https://localhost:8080/"
        },
        "id": "jqK1MqCRS-4L",
        "outputId": "fa27005f-6c11-4140-e1e0-ae9c9f18fe60"
      },
      "execution_count": null,
      "outputs": [
        {
          "output_type": "stream",
          "name": "stdout",
          "text": [
            "Digita la base: 3\n",
            "Digita el exponente: 3\n",
            "El resultado es: 27\n"
          ]
        }
      ]
    },
    {
      "cell_type": "code",
      "source": [
        "# 10 - Crea un programa que solicite dos valores numéricos, un numerador y un denominador, y realice la división entera\n",
        "# entre los dos valores. Asegúrate de que el valor del denominador no sea igual a 0.\n",
        "primer_numero = int(input('Digita el primer numero: '))\n",
        "segundo_numero = float(input('Digita el segundo numero: '))\n",
        "\n",
        "while segundo_numero == 0:\n",
        "  print('El denominador no puede ser 0')\n",
        "  segundo_numero = int(input('Digita el segundo numero: '))\n",
        "\n",
        "division = primer_numero // segundo_numero\n",
        "print('El resultado es %i' %(division))"
      ],
      "metadata": {
        "colab": {
          "base_uri": "https://localhost:8080/"
        },
        "id": "ZcSWyNukVUP6",
        "outputId": "83a270fe-e99d-4733-ef12-78dc93caa654"
      },
      "execution_count": null,
      "outputs": [
        {
          "output_type": "stream",
          "name": "stdout",
          "text": [
            "Digita el primer numero: 20\n",
            "Digita el segundo numero: 3.5\n",
            "El resultado es 5\n"
          ]
        }
      ]
    },
    {
      "cell_type": "code",
      "source": [
        "# 11 Crea un programa que solicite dos valores numéricos, un numerador y un denominador, y devuelva\n",
        "#el resto de la división entre los dos valores. Asegúrate de que el valor del denominador no sea igual a 0.\n",
        "primer_numero = int(input('Digita el primer numero: '))\n",
        "segundo_numero = float(input('Digita el segundo numero: '))\n",
        "\n",
        "while segundo_numero == 0:\n",
        "  print('El denominador no puede ser 0')\n",
        "  segundo_numero = int(input('Digita el segundo numero: '))\n",
        "\n",
        "division = primer_numero % segundo_numero\n",
        "print('El resultado es %i' %(division))"
      ],
      "metadata": {
        "colab": {
          "base_uri": "https://localhost:8080/"
        },
        "id": "tOP-biolVsVc",
        "outputId": "3521c12a-926d-45c8-9dc6-c3e43ba48c05"
      },
      "execution_count": null,
      "outputs": [
        {
          "output_type": "stream",
          "name": "stdout",
          "text": [
            "Digita el primer numero: 20\n",
            "Digita el segundo numero: 3\n",
            "El resultado es 2\n"
          ]
        }
      ]
    },
    {
      "cell_type": "code",
      "source": [
        "# 12 - Crea un código que solicite las 3 notas de un estudiante e imprima el\n",
        "# promedio de las notas.\n",
        "primer_numero = float(input('Digita la primer nota: '))\n",
        "segundo_numero = float(input('Digita la segunda nota: '))\n",
        "tercer_numero = float(input('Digita la tercer nota: '))\n",
        "\n",
        "promedio = (primer_numero + segundo_numero + tercer_numero) / 3\n",
        "print('El promedio es %f' %(promedio))"
      ],
      "metadata": {
        "colab": {
          "base_uri": "https://localhost:8080/"
        },
        "id": "c9X1iWJhV_h_",
        "outputId": "9e4c7e7e-6646-4c5e-bef7-23d1173ca08d"
      },
      "execution_count": null,
      "outputs": [
        {
          "output_type": "stream",
          "name": "stdout",
          "text": [
            "Digita la primer nota: 9.5\n",
            "Digita la segunda nota: 7.9\n",
            "Digita la tercer nota: 8.3\n",
            "El promedio es 8.566667\n"
          ]
        }
      ]
    },
    {
      "cell_type": "code",
      "source": [
        "#13 - Crea un código que calcule e imprima el promedio ponderado de los números 5, 12, 20 y 15\n",
        "# con pesos respectivamente iguales a 1, 2, 3 y 4.\n",
        "promedio_ponderado = (5*1 + 12*2 + 20*3 + 15*4) / (1+2+3+4)\n",
        "print(promedio_ponderado)"
      ],
      "metadata": {
        "colab": {
          "base_uri": "https://localhost:8080/"
        },
        "id": "nXYRu9GZXYMV",
        "outputId": "b2ada2b3-5aed-4a58-e593-2f2efa7c2141"
      },
      "execution_count": null,
      "outputs": [
        {
          "output_type": "stream",
          "name": "stdout",
          "text": [
            "14.9\n"
          ]
        }
      ]
    },
    {
      "cell_type": "code",
      "source": [
        "# 14 - Crea una variable llamada \"frase\" y asígnale una cadena de texto de tu elección.\n",
        "# Luego, imprime la frase en pantalla.\n",
        "\n",
        "frase = 'Hola a todos, me gusta jugar valorant'\n",
        "print(frase)"
      ],
      "metadata": {
        "colab": {
          "base_uri": "https://localhost:8080/"
        },
        "id": "7361-S4CYh3O",
        "outputId": "2275f353-86ee-4ddc-a10a-980b839bc61e"
      },
      "execution_count": null,
      "outputs": [
        {
          "output_type": "stream",
          "name": "stdout",
          "text": [
            "Hola a todos, me gusta jugar valorant\n"
          ]
        }
      ]
    },
    {
      "cell_type": "code",
      "source": [
        "# 15 - Crea un código que solicite una frase y luego imprima la frase en pantalla.\n",
        "frase = input('Escribe algo: ')\n",
        "print(frase)"
      ],
      "metadata": {
        "colab": {
          "base_uri": "https://localhost:8080/"
        },
        "id": "aK5CMox8Y7LD",
        "outputId": "91fd5ea3-75e6-45d3-a903-496c6f544608"
      },
      "execution_count": null,
      "outputs": [
        {
          "output_type": "stream",
          "name": "stdout",
          "text": [
            "Escribe algo: Me gusta iso\n",
            "Me gusta iso\n"
          ]
        }
      ]
    },
    {
      "cell_type": "code",
      "source": [
        "# 16 - Crea un código que solicite una frase al usuario y luego imprima la misma\n",
        "# frase ingresada pero en mayúsculas.\n",
        "frase = input('Escribe algo: ')\n",
        "print(frase.upper())"
      ],
      "metadata": {
        "colab": {
          "base_uri": "https://localhost:8080/"
        },
        "id": "LZ3wl1kTZEEm",
        "outputId": "80a43b5c-e53c-4253-8296-05a520aa58fa"
      },
      "execution_count": null,
      "outputs": [
        {
          "output_type": "stream",
          "name": "stdout",
          "text": [
            "Escribe algo: Me gusta jugar valorant\n",
            "ME GUSTA JUGAR VALORANT\n"
          ]
        }
      ]
    },
    {
      "cell_type": "code",
      "source": [
        "# 17 - Crea un código que solicite una frase al usuario y luego imprima la misma\n",
        "# frase ingresada pero en minúsculas.\n",
        "frase = input('Escribe algo: ')\n",
        "print(frase.lower())"
      ],
      "metadata": {
        "colab": {
          "base_uri": "https://localhost:8080/"
        },
        "id": "noQ_Fs0jZqBv",
        "outputId": "ca475af9-d510-4941-cb86-160707ca3fbd"
      },
      "execution_count": null,
      "outputs": [
        {
          "output_type": "stream",
          "name": "stdout",
          "text": [
            "Escribe algo: Hola\n",
            "hola\n"
          ]
        }
      ]
    },
    {
      "cell_type": "code",
      "source": [
        "# 18 - Crea una variable llamada \"frase\" y asígnale una cadena de texto de tu elección.\n",
        "# Luego, imprime la frase sin espacios en blanco al principio y al final.\n",
        "frase = input('Escribe algo: ')\n",
        "print(frase.strip())"
      ],
      "metadata": {
        "colab": {
          "base_uri": "https://localhost:8080/"
        },
        "id": "Hk7eUYwFZzV3",
        "outputId": "e214161d-fd29-49c3-ddc0-e46b4a3c8306"
      },
      "execution_count": null,
      "outputs": [
        {
          "output_type": "stream",
          "name": "stdout",
          "text": [
            "Escribe algo:   Hola a todos     \n",
            "Hola a todos\n"
          ]
        }
      ]
    },
    {
      "cell_type": "code",
      "source": [
        "# 20 - Crea un código que solicite una frase al usuario y luego imprima la misma frase sin espacios en\n",
        "# blanco al principio y al final, además de convertirla a minúsculas.\n",
        "frase = input('Escribe algo: ')\n",
        "print(frase)\n",
        "print(frase.strip().lower())"
      ],
      "metadata": {
        "colab": {
          "base_uri": "https://localhost:8080/"
        },
        "id": "igSliVCNaML9",
        "outputId": "95fae0c7-2bd2-4662-eeed-3b1f2c5fd801"
      },
      "execution_count": null,
      "outputs": [
        {
          "output_type": "stream",
          "name": "stdout",
          "text": [
            "Escribe algo:   Hola a todos   \n",
            "  Hola a todos   \n",
            "hola a todos\n"
          ]
        }
      ]
    },
    {
      "cell_type": "code",
      "source": [
        "# 22 - Crea un código que solicite una frase al usuario y luego imprima la misma\n",
        "# frase con todas las vocales \"a\" reemplazadas por el carácter \"@\".\n",
        "frase = input('Escribe algo: ')\n",
        "print(frase.replace('a','@'))"
      ],
      "metadata": {
        "colab": {
          "base_uri": "https://localhost:8080/"
        },
        "id": "tlqIVDZFabFx",
        "outputId": "d56058f0-492f-4f39-89ba-b9b8b46cb1f9"
      },
      "execution_count": null,
      "outputs": [
        {
          "output_type": "stream",
          "name": "stdout",
          "text": [
            "Escribe algo: Me gusta jugar valorant\n",
            "Me gust@ jug@r v@lor@nt\n"
          ]
        }
      ]
    },
    {
      "cell_type": "code",
      "source": [],
      "metadata": {
        "id": "mshYLb_taw_I"
      },
      "execution_count": null,
      "outputs": []
    },
    {
      "cell_type": "markdown",
      "source": [
        "# Ejercicios Condicionales"
      ],
      "metadata": {
        "id": "O7Ra5ik39o0a"
      }
    },
    {
      "cell_type": "code",
      "source": [
        "# Recolectamos los números\n",
        "num1 = float(input('Ingrese el primer número: '))\n",
        "num2 = float(input('Ingrese el segundo número: '))\n",
        "# Comparamos ambos números y determinamos cuál es el mayor\n",
        "if num1 > num2:\n",
        "    print(f'El primer número es mayor: {num1}')\n",
        "elif num2 > num1:\n",
        "    print(f'El segundo número es mayor: {num2}')\n",
        "else: # En caso de que los números sean iguales\n",
        "    print('Ambos números son iguales.')"
      ],
      "metadata": {
        "id": "KyviMOlP9q04",
        "outputId": "2e803047-58ef-4829-8cef-9d3d84746ede",
        "colab": {
          "base_uri": "https://localhost:8080/"
        }
      },
      "execution_count": null,
      "outputs": [
        {
          "output_type": "stream",
          "name": "stdout",
          "text": [
            "Ingrese el primer número: 10\n",
            "Ingrese el segundo número: 10\n",
            "Ambos números son iguales.\n"
          ]
        }
      ]
    },
    {
      "cell_type": "code",
      "source": [
        "\"\"\"\n",
        "2 - Escribe un programa que solicite el porcentaje de crecimiento de producción\n",
        "de una empresa e informe si hubo un crecimiento (porcentaje positivo) o una\n",
        "disminución (porcentaje negativo).\n",
        "\"\"\"\n",
        "\n",
        "# Recolectamos el porcentaje\n",
        "variación = float(input('Ingrese el porcentaje de crecimiento: '))\n",
        "# Verificamos si el valor es positivo o negativo con una comparación para ver si el número\n",
        "# es mayor o menor que 0\n",
        "if variación > 0:\n",
        "    print(f'Hubo un crecimiento del {variación}%')\n",
        "elif variación < 0:\n",
        "    print(f'Hubo un decrecimiento del {variación}%')\n",
        "else:\n",
        "    print('No hubo crecimiento ni decrecimiento.')"
      ],
      "metadata": {
        "id": "u2McRWI99uEj",
        "outputId": "a849a5e9-530b-4d74-c1db-e7e818adc793",
        "colab": {
          "base_uri": "https://localhost:8080/"
        }
      },
      "execution_count": null,
      "outputs": [
        {
          "output_type": "stream",
          "name": "stdout",
          "text": [
            "Ingrese el porcentaje de crecimiento: 20\n",
            "Hubo un crecimiento del 20.0%\n"
          ]
        }
      ]
    },
    {
      "cell_type": "code",
      "source": [
        "# Recolectamos la letra del usuario en minúsculas\n",
        "letra = input('Ingrese una letra: ').lower()\n",
        "vocales = 'aeiou' # cadena que contiene todas las vocales\n",
        "# Verificamos si la letra está en las vocales con `in`\n",
        "if letra in vocales:\n",
        "    print('La letra es una vocal.')\n",
        "else:\n",
        "    print('La letra es una consonante.')\n"
      ],
      "metadata": {
        "id": "vjH5-KHn-glk",
        "outputId": "1728adc8-e8e8-455e-cf11-b60aec812244",
        "colab": {
          "base_uri": "https://localhost:8080/"
        }
      },
      "execution_count": null,
      "outputs": [
        {
          "output_type": "stream",
          "name": "stdout",
          "text": [
            "Digita una letra: x\n",
            "Es una consonante\n"
          ]
        }
      ]
    },
    {
      "cell_type": "code",
      "source": [
        "\"\"\"\n",
        "4 - Escribe un programa que lea valores promedio de precios de un modelo de\n",
        "automóvil durante 3 años consecutivos y muestre el valor más alto y más bajo\n",
        "entre esos tres años.\n",
        "\"\"\"\n",
        "# Pedir al usuario que ingrese los precios promedio para cada año\n",
        "precio1 = float(input(\"Ingresa el precio promedio del automóvil para el primer año: \"))\n",
        "precio2 = float(input(\"Ingresa el precio promedio del automóvil para el segundo año: \"))\n",
        "precio3 = float(input(\"Ingresa el precio promedio del automóvil para el tercer año: \"))\n",
        "\n",
        "valor_mas_alto = 0\n",
        "valor_mas_bajo = 0\n",
        "\n",
        "if precio1 > precio2 and precio1 > precio3:\n",
        "    valor_mas_alto = precio1\n",
        "elif precio2 > precio1 and precio2 > precio3:\n",
        "    valor_mas_alto = precio2\n",
        "else:\n",
        "    valor_mas_alto = precio3\n",
        "\n",
        "# Determinar el precio más bajo\n",
        "if precio1 < precio2 and precio1 < precio3:\n",
        "    valor_mas_bajo = precio1\n",
        "elif precio2 < precio1 and precio2 < precio3:\n",
        "    valor_mas_bajo = precio2\n",
        "else:\n",
        "    valor_mas_bajo = precio3\n",
        "\n",
        "# Mostrar los resultados\n",
        "print(f\"El valor más alto entre los tres años es: ${valor_mas_alto:.2f}\")\n",
        "print(f\"El valor más bajo entre los tres años es: ${valor_mas_bajo:.2f}\")\n",
        "\n"
      ],
      "metadata": {
        "id": "fDX7Cu7p_A6N",
        "outputId": "21cda6ca-cf2a-415e-817e-6da4fd9007d4",
        "colab": {
          "base_uri": "https://localhost:8080/"
        }
      },
      "execution_count": null,
      "outputs": [
        {
          "output_type": "stream",
          "name": "stdout",
          "text": [
            "Ingresa el precio promedio del automóvil para el primer año: 20\n",
            "Ingresa el precio promedio del automóvil para el segundo año: 2000\n",
            "Ingresa el precio promedio del automóvil para el tercer año: 2\n",
            "El valor más alto entre los tres años es: $2000.00\n",
            "El valor más bajo entre los tres años es: $2.00\n"
          ]
        }
      ]
    },
    {
      "cell_type": "code",
      "source": [
        "\"\"\"\n",
        "5 - Escribe un programa que pregunte sobre el precio de tres productos e indique\n",
        "cuál es el producto más barato para comprar.\n",
        "\"\"\"\n",
        "# Recolectamos el precio de tres productos\n",
        "producto1 = float(input('Ingrese el precio del primer producto: '))\n",
        "producto2 = float(input('Ingrese el precio del segundo producto: '))\n",
        "producto3 = float(input('Ingrese el precio del tercer producto: '))\n",
        "\n",
        "# Usamos el operador lógico `and` para determinar cuál es el precio más bajo entre los 3 productos\n",
        "# ya que esto nos permite hacer una comparación de 3 entradas\n",
        "if producto1 < producto2 and producto1 < producto3:\n",
        "    print('El primer producto es el más barato.')\n",
        "elif producto2 < producto1 and producto2 < producto3:\n",
        "    print('El segundo producto es el más barato.')\n",
        "else:\n",
        "    print('El tercer producto es el más barato.')"
      ],
      "metadata": {
        "id": "MbpkcYdn_tHt",
        "outputId": "d96fd36e-1d7b-4541-8c73-6c1f55063395",
        "colab": {
          "base_uri": "https://localhost:8080/"
        }
      },
      "execution_count": null,
      "outputs": [
        {
          "output_type": "stream",
          "name": "stdout",
          "text": [
            "0\n",
            "1\n",
            "2\n",
            "3\n"
          ]
        }
      ]
    },
    {
      "cell_type": "code",
      "source": [],
      "metadata": {
        "id": "Ag4HeGUhByqu"
      },
      "execution_count": null,
      "outputs": []
    },
    {
      "cell_type": "markdown",
      "source": [
        "# EJERCICIOS BUCLES"
      ],
      "metadata": {
        "id": "0exz3w7hDt3P"
      }
    },
    {
      "cell_type": "code",
      "source": [
        "\"\"\"\n",
        "1 - Escribe un programa que solicite dos números enteros e imprima todos\n",
        "los números enteros entre ellos.\n",
        "\"\"\"\n",
        "numero_inicio = int(input('Inserta el número de inicio: '))\n",
        "numero_fin = int(input('Inserte el número de fin: '))\n",
        "\n",
        "for i in range(numero_inicio + 1, numero_fin):\n",
        "  print(i)"
      ],
      "metadata": {
        "colab": {
          "base_uri": "https://localhost:8080/"
        },
        "id": "ksBpjBcdDwCD",
        "outputId": "f8866f75-a28b-4c80-b784-98833d50c5fd"
      },
      "execution_count": 2,
      "outputs": [
        {
          "output_type": "stream",
          "name": "stdout",
          "text": [
            "Inserta el número de inicio: 1200\n",
            "Inserte el número de fin: 1205\n",
            "1201\n",
            "1202\n",
            "1203\n",
            "1204\n"
          ]
        }
      ]
    },
    {
      "cell_type": "code",
      "source": [
        "\"\"\"\n",
        "2 - Escribe un programa para calcular cuántos días tomará que la colonia de una\n",
        "bacteria A supere o iguale a la colonia de una bacteria B, basado en tasas de\n",
        "crecimiento del 3% y 1.5%, respectivamente. Supón que la colonia A comienza con\n",
        "4 elementos y B con 10.\n",
        "\"\"\"\n",
        "dias = 0;\n",
        "\n",
        "colonia_bacteria_A = 4;\n",
        "colonia_bacteria_B = 10;\n",
        "\n",
        "while colonia_bacteria_B > colonia_bacteria_A:\n",
        "  colonia_bacteria_A *= 1.03;\n",
        "  colonia_bacteria_B *= 1.015;\n",
        "  dias += 1;\n",
        "\n",
        "print(f'El total de días que le tomo a A alcanzar a B son: {dias}')"
      ],
      "metadata": {
        "colab": {
          "base_uri": "https://localhost:8080/"
        },
        "id": "t0RSTrWrEelq",
        "outputId": "cfef5b17-fa31-4662-eafc-33e3f977118a"
      },
      "execution_count": 5,
      "outputs": [
        {
          "output_type": "stream",
          "name": "stdout",
          "text": [
            "El total de días que le tomo a A alcanzar a B son: 63\n"
          ]
        }
      ]
    },
    {
      "cell_type": "code",
      "source": [
        "\"\"\"3 - Para procesar una cantidad de 15 datos de evaluaciones de usuarios de un\n",
        "servicio de la empresa, necesitamos verificar si las calificaciones son válidas.\n",
        "Por lo tanto, escribe un programa que recibirá calificaciones del 0 al 5 y\n",
        "verificará si son valores válidos. Si se ingresa una calificación superior a 5\n",
        "o inferior a 0, se repetirá hasta que el usuario ingrese un valor válido.\n",
        "\"\"\"\n",
        "evaluaciones = [];\n",
        "\n",
        "for i in range(1,16):\n",
        "  evaluacion = int(input('Digita la evaluación: '))\n",
        "  while evaluacion > 5 or evaluacion < 0:\n",
        "    print('La calificacion no es valida, ingrese de nuevo')\n",
        "    evaluacion = int(input('Digita la evaluación: '))\n",
        "  evaluaciones.append(evaluacion)\n",
        "\n",
        "print(evaluaciones)\n"
      ],
      "metadata": {
        "colab": {
          "base_uri": "https://localhost:8080/"
        },
        "id": "7a0fdXIAGqm3",
        "outputId": "2cb12b3d-4a13-411a-bbcf-6a27b275c3a6"
      },
      "execution_count": 9,
      "outputs": [
        {
          "output_type": "stream",
          "name": "stdout",
          "text": [
            "Digita la evaluación: 10\n",
            "La calificacion no es valida, ingrese de nuevo\n",
            "Digita la evaluación: 7\n",
            "La calificacion no es valida, ingrese de nuevo\n",
            "Digita la evaluación: 2\n",
            "Digita la evaluación: 3\n",
            "Digita la evaluación: 4\n",
            "Digita la evaluación: 5\n",
            "Digita la evaluación: 1\n",
            "Digita la evaluación: 2\n",
            "Digita la evaluación: 3\n",
            "Digita la evaluación: 4\n",
            "Digita la evaluación: 5\n",
            "Digita la evaluación: 1\n",
            "Digita la evaluación: 2\n",
            "Digita la evaluación: 3\n",
            "Digita la evaluación: 4\n",
            "Digita la evaluación: 1\n",
            "Digita la evaluación: 2\n",
            "[2, 3, 4, 5, 1, 2, 3, 4, 5, 1, 2, 3, 4, 1, 2]\n"
          ]
        }
      ]
    },
    {
      "cell_type": "code",
      "source": [
        "\"\"\"\n",
        "4 - Desarrolla un programa que lea un conjunto indefinido de temperaturas en\n",
        "grados Celsius y calcule su promedio. La lectura debe detenerse al ingresar el\n",
        "valor -273°C.\n",
        "\"\"\"\n",
        "suma_temperaturas = 0\n",
        "i = 0\n",
        "\n",
        "while True:\n",
        "    temperatura = int(input(\"Digita una temperatura: \"))\n",
        "\n",
        "    if temperatura == -273:\n",
        "        break\n",
        "\n",
        "    suma_temperaturas += temperatura\n",
        "    i += 1\n",
        "\n",
        "if i > 0:\n",
        "    promedio = suma_temperaturas / i\n",
        "    print(f\"El promedio de las temperaturas es: {promedio:.2f}\")\n",
        "else:\n",
        "    print(\"No se ingresaron temperaturas válidas.\")"
      ],
      "metadata": {
        "colab": {
          "base_uri": "https://localhost:8080/"
        },
        "id": "xY-cBn9RIdg5",
        "outputId": "f31155d1-ee45-4dd3-d39a-cf6fee076c52"
      },
      "execution_count": 11,
      "outputs": [
        {
          "output_type": "stream",
          "name": "stdout",
          "text": [
            "Digita una temperatura: 10\n",
            "Digita una temperatura: 190\n",
            "Digita una temperatura: 180\n",
            "Digita una temperatura: -20\n",
            "Digita una temperatura: -50\n",
            "Digita una temperatura: -273\n",
            "6.166666666666667\n"
          ]
        }
      ]
    },
    {
      "cell_type": "code",
      "source": [
        "\"\"\"\n",
        "5 - Escribe un programa que calcule el factorial de un número entero proporcionado\n",
        "por el usuario.\n",
        "Recuerda que el factorial de un número entero es el producto de\n",
        "ese número por todos sus antecesores hasta llegar al número 1. Por ejemplo, el\n",
        "factorial de 5 es 5 x 4 x 3 x 2 x 1 = 120.\n",
        "\"\"\"\n",
        "\n",
        "# USANDO FOR\n",
        "numero_usuario = int(input('Digita el numero: '));\n",
        "factorial = 1;\n",
        "\n",
        "for i in range(numero_usuario,0,-1):\n",
        "  factorial *= i;\n",
        "print(factorial);"
      ],
      "metadata": {
        "colab": {
          "base_uri": "https://localhost:8080/"
        },
        "id": "8WTh4ooeML6R",
        "outputId": "5be5e7ae-0355-4f73-b3de-3b310c36b0f2"
      },
      "execution_count": 21,
      "outputs": [
        {
          "output_type": "stream",
          "name": "stdout",
          "text": [
            "Digita el numero: 5\n",
            "120\n"
          ]
        }
      ]
    },
    {
      "cell_type": "code",
      "source": [
        "# USANDO WHILE\n",
        "numero_usuario = int(input('Digita el numero: '));\n",
        "factorial = 1;\n",
        "\n",
        "while numero_usuario >= 1:\n",
        "  factorial *= numero_usuario\n",
        "  numero_usuario -= 1\n",
        "\n",
        "print(factorial)\n",
        "\n"
      ],
      "metadata": {
        "colab": {
          "base_uri": "https://localhost:8080/"
        },
        "id": "tFHwKV49OdAZ",
        "outputId": "00ff5450-7dac-4674-b685-c4d7d3f88bec"
      },
      "execution_count": 24,
      "outputs": [
        {
          "output_type": "stream",
          "name": "stdout",
          "text": [
            "Digita el numero: 5\n",
            "120\n"
          ]
        }
      ]
    },
    {
      "cell_type": "markdown",
      "source": [
        "## Momento de los proyectos"
      ],
      "metadata": {
        "id": "82LHy7alQb1a"
      }
    },
    {
      "cell_type": "code",
      "source": [
        "\"\"\"\n",
        "6 - Escribe un programa que genere la tabla de multiplicar de un número entero\n",
        "del 1 al 10, según la elección del usuario. Como ejemplo, para el número 2, la\n",
        "tabla de multiplicar debe mostrarse en el siguiente formato\n",
        "\"\"\"\n",
        "\n",
        "numero_usuario = int(input('Digita el numero para la tabla: '))\n",
        "multiplicacion = 0;\n",
        "\n",
        "while numero_usuario < 1 or numero_usuario > 10:\n",
        "  numero_usuario = int(input('Digita el numero para la tabla: '))\n",
        "\n",
        "for i in range(1,11):\n",
        "  multiplicacion = numero_usuario * i;\n",
        "  print(f'{numero_usuario} x {i} = {multiplicacion}')\n",
        "\n",
        "print('fin')"
      ],
      "metadata": {
        "colab": {
          "base_uri": "https://localhost:8080/"
        },
        "id": "WZVVJiI8QCVq",
        "outputId": "dd753ad5-1f1f-4278-ddbc-155c771e44c3"
      },
      "execution_count": 32,
      "outputs": [
        {
          "output_type": "stream",
          "name": "stdout",
          "text": [
            "Digita el numero para la tabla: 11\n",
            "Digita el numero para la tabla: 11\n",
            "Digita el numero para la tabla: 12\n",
            "Digita el numero para la tabla: 12\n",
            "Digita el numero para la tabla: -2\n",
            "Digita el numero para la tabla: 6\n",
            "6 x 1 = 6\n",
            "6 x 2 = 12\n",
            "6 x 3 = 18\n",
            "6 x 4 = 24\n",
            "6 x 5 = 30\n",
            "6 x 6 = 36\n",
            "6 x 7 = 42\n",
            "6 x 8 = 48\n",
            "6 x 9 = 54\n",
            "6 x 10 = 60\n",
            "fin\n"
          ]
        }
      ]
    },
    {
      "cell_type": "code",
      "source": [
        "\"\"\"\n",
        "7 - Los números primos tienen diversas aplicaciones en Ciencia de Datos, como en\n",
        "criptografía y seguridad. Un número primo es aquel que es divisible solo por sí\n",
        "mismo y por 1. Por lo tanto, crea un programa que solicite un número entero y\n",
        "determine si es un número primo o no.\n",
        "\"\"\"\n",
        "numero_usuario = int(input(\"Digita un número: \"))\n",
        "\n",
        "if numero_usuario < 2:\n",
        "    print(\"No es primo\")\n",
        "else:\n",
        "    es_primo = True\n",
        "\n",
        "    for i in range(2, numero_usuario):  # Recorre todos los números menores\n",
        "        if numero_usuario % i == 0:  # Si encuentra un divisor, ya no es primo\n",
        "            es_primo = False\n",
        "            break\n",
        "\n",
        "    if es_primo:\n",
        "        print(\"Es primo\")\n",
        "    else:\n",
        "        print(\"No es primo\")"
      ],
      "metadata": {
        "colab": {
          "base_uri": "https://localhost:8080/"
        },
        "id": "ND3_g8StUT2Y",
        "outputId": "a9c3b2e2-c619-47ab-b930-d5c12496fd3f"
      },
      "execution_count": 37,
      "outputs": [
        {
          "output_type": "stream",
          "name": "stdout",
          "text": [
            "Digita un número: 4\n",
            "No es primo\n"
          ]
        }
      ]
    },
    {
      "cell_type": "code",
      "source": [
        "# OTRA OPCION"
      ],
      "metadata": {
        "id": "GBBd-ZE9ZZff"
      },
      "execution_count": 39,
      "outputs": []
    },
    {
      "cell_type": "code",
      "source": [
        "# Recopilamos el número\n",
        "num = int(input('Ingresa un número entero: '))\n",
        "\n",
        "# Los números enteros iguales o menores que 1 no se consideran primos\n",
        "if num > 1:\n",
        "    for i in range(2, num):\n",
        "        # Verificamos todos los residuos de la división entre todos los números menores que num\n",
        "        # Si algún residuo es 0, significa que es divisible por otro número además de sí mismo y 1\n",
        "        if (num % i) == 0:\n",
        "            print(f'{num} no es un número primo')\n",
        "            break\n",
        "    else:\n",
        "        print(f'{num} es un número primo')\n",
        "else:\n",
        "    print(f'{num} no es un número primo')"
      ],
      "metadata": {
        "id": "AE16zTK4b9QP"
      },
      "execution_count": null,
      "outputs": []
    }
  ]
}