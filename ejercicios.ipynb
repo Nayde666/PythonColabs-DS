{
  "nbformat": 4,
  "nbformat_minor": 0,
  "metadata": {
    "colab": {
      "provenance": [],
      "authorship_tag": "ABX9TyNHyIpyOb8PH6eYaZGoD0T6",
      "include_colab_link": true
    },
    "kernelspec": {
      "name": "python3",
      "display_name": "Python 3"
    },
    "language_info": {
      "name": "python"
    }
  },
  "cells": [
    {
      "cell_type": "markdown",
      "metadata": {
        "id": "view-in-github",
        "colab_type": "text"
      },
      "source": [
        "<a href=\"https://colab.research.google.com/github/Nayde666/PythonColabs-DS/blob/main/ejercicios.ipynb\" target=\"_parent\"><img src=\"https://colab.research.google.com/assets/colab-badge.svg\" alt=\"Open In Colab\"/></a>"
      ]
    },
    {
      "cell_type": "code",
      "execution_count": 1,
      "metadata": {
        "colab": {
          "base_uri": "https://localhost:8080/"
        },
        "id": "DnZ2bqQ4OfGC",
        "outputId": "6a30c8c7-7f78-4c53-b947-0d6437bdd476"
      },
      "outputs": [
        {
          "output_type": "stream",
          "name": "stdout",
          "text": [
            "Digita tu nombre: Nay\n",
            "Hola Nay\n"
          ]
        }
      ],
      "source": [
        "# 1. Crea un programa que solicite al usuario que escriba su nombre y luego imprima Hola,nombre\n",
        "nombre = input('Digita tu nombre: ')\n",
        "print('Hola %s' %(nombre))"
      ]
    },
    {
      "cell_type": "code",
      "source": [
        "# 2. Crea un programa que solicite al usuario que escriba su nombre y edad yy luego imprima \"Hola, nombre, tienes edad años\"\n",
        "nombre = input('Escribe tu nombre: ')\n",
        "edad = int(input('Escribe tu edad: '))\n",
        "\n",
        "print('Hola %s, tienes %d años' %(nombre, edad))"
      ],
      "metadata": {
        "colab": {
          "base_uri": "https://localhost:8080/"
        },
        "id": "JAKdiS0PPHuX",
        "outputId": "187ef5e4-20ed-42fa-b6ba-809b70bc473a"
      },
      "execution_count": 4,
      "outputs": [
        {
          "output_type": "stream",
          "name": "stdout",
          "text": [
            "Escribe tu nombre: Naydelin\n",
            "Escribe tu edad: 22\n",
            "Hola Naydelin, tienes 22 años\n"
          ]
        }
      ]
    },
    {
      "cell_type": "code",
      "source": [
        "# 3. Crea un programa que solicite al usuario que escriba su nombre, edad y altura en metros,\n",
        "# y luego imprima \"Hola, [nombre], tienes [edad] años y mides [altura] metros.\"\n",
        "nombre = input('Escribe tu nombre: ')\n",
        "edad = int(input('Escribe tu edad: '))\n",
        "altura = float(input('Escribe tu altura: '))\n",
        "\n",
        "print('Hola %s, tienes %d años y mides %f' %(nombre, edad, altura))"
      ],
      "metadata": {
        "colab": {
          "base_uri": "https://localhost:8080/"
        },
        "id": "oOWDuDrGP1MO",
        "outputId": "ef3fa029-f5a8-4b4c-ac1a-3113e1079cb8"
      },
      "execution_count": 5,
      "outputs": [
        {
          "output_type": "stream",
          "name": "stdout",
          "text": [
            "Escribe tu nombre: Naydelin\n",
            "Escribe tu edad: 22\n",
            "Escribe tu altura: 1.70\n",
            "Hola Naydelin, tienes 22 años y mides 1.700000\n"
          ]
        }
      ]
    },
    {
      "cell_type": "code",
      "source": [
        "# CALCULADORA CON OPERADORES\n",
        "# 4 - Crea un programa que solicite dos valores numéricos al usuario y luego imprima la suma de ambos valores\n",
        "primer_numero = int(input('Digita el primer numero: '))\n",
        "segundo_numero = int(input('Digita el segundo numero: '))\n",
        "\n",
        "print(id(primer_numero), id(segundo_numero))\n",
        "\n",
        "suma = primer_numero + segundo_numero\n",
        "print(suma)"
      ],
      "metadata": {
        "colab": {
          "base_uri": "https://localhost:8080/"
        },
        "id": "gYJI-N7YQfzh",
        "outputId": "5380d636-04dc-4957-e44c-a5c78279ac9c"
      },
      "execution_count": 8,
      "outputs": [
        {
          "output_type": "stream",
          "name": "stdout",
          "text": [
            "Digita el primer numero: 20\n",
            "Digita el segundo numero: 10\n",
            "10751464 10751144\n",
            "30\n"
          ]
        }
      ]
    },
    {
      "cell_type": "code",
      "source": [
        "# 5 - Crea un programa que solicite tres valores numéricos al usuario y luego imprima la suma de los tres valores.\n",
        "primer_numero = int(input('Digita el primer numero: '))\n",
        "segundo_numero = int(input('Digita el segundo numero: '))\n",
        "tercer_numero = int(input('Digita el tercer numero: '))\n",
        "\n",
        "print(id(primer_numero),id(segundo_numero), id(tercer_numero))\n",
        "\n",
        "suma = primer_numero + segundo_numero + tercer_numero\n",
        "print(suma)"
      ],
      "metadata": {
        "colab": {
          "base_uri": "https://localhost:8080/"
        },
        "id": "rZ1L3X80Q8Xh",
        "outputId": "0a99ef71-5839-407e-821c-481624845044"
      },
      "execution_count": 9,
      "outputs": [
        {
          "output_type": "stream",
          "name": "stdout",
          "text": [
            "Digita el primer numero: 20\n",
            "Digita el segundo numero: 10\n",
            "Digita el tercer numero: 10\n",
            "10751464 10751144 10751144\n",
            "40\n"
          ]
        }
      ]
    },
    {
      "cell_type": "code",
      "source": [
        "# 6 - Crea un programa que solicite dos valores numéricos al usuario y luego imprima la\n",
        "# resta del primero menos el segundo valor.\n",
        "primer_numero = int(input('Digita el primer numero: '))\n",
        "segundo_numero = int(input('Digita el segundo numero: '))\n",
        "\n",
        "print(id(primer_numero), id(segundo_numero))\n",
        "\n",
        "resta = primer_numero - segundo_numero\n",
        "print(resta)\n",
        "print(id(resta))"
      ],
      "metadata": {
        "colab": {
          "base_uri": "https://localhost:8080/"
        },
        "id": "WGLd4OktRK5x",
        "outputId": "643cd357-ddcc-4c8a-ab83-abd7f9a98086"
      },
      "execution_count": 11,
      "outputs": [
        {
          "output_type": "stream",
          "name": "stdout",
          "text": [
            "Digita el primer numero: 20\n",
            "Digita el segundo numero: 10\n",
            "10751464 10751144\n",
            "10\n",
            "10751144\n"
          ]
        }
      ]
    },
    {
      "cell_type": "code",
      "source": [
        "# 7 - Crea un programa que solicite dos valores numéricos al usuario y luego imprima la multiplicación de los dos valores.\n",
        "primer_numero = int(input('Digita el primer numero: '))\n",
        "segundo_numero = int(input('Digita el segundo numero: '))\n",
        "\n",
        "multiplicacion = primer_numero * segundo_numero\n",
        "print(multiplicacion)"
      ],
      "metadata": {
        "colab": {
          "base_uri": "https://localhost:8080/"
        },
        "id": "jj9_-gakR2Sq",
        "outputId": "cc0f97c6-5a19-450f-b549-c399d3d7f804"
      },
      "execution_count": 12,
      "outputs": [
        {
          "output_type": "stream",
          "name": "stdout",
          "text": [
            "Digita el primer numero: 5\n",
            "Digita el segundo numero: 5\n",
            "25\n"
          ]
        }
      ]
    },
    {
      "cell_type": "code",
      "source": [
        "# 8 - Crea un programa que solicite dos valores numéricos, un numerador y un denominador, y realice la división entre los dos valores.\n",
        "# Asegúrate de que el valor del denominador no sea igual a 0.\n",
        "primer_numero = int(input('Digita el primer numero: '))\n",
        "segundo_numero = int(input('Digita el segundo numero: '))\n",
        "\n",
        "while segundo_numero == 0:\n",
        "  print('El denominador no puede ser 0')\n",
        "  segundo_numero = int(input('Digita el segundo numero: '))\n",
        "\n",
        "division = primer_numero / segundo_numero\n",
        "print('El resultado es %f' %(division))"
      ],
      "metadata": {
        "colab": {
          "base_uri": "https://localhost:8080/"
        },
        "id": "KbrutbjWSMIV",
        "outputId": "851915ed-e780-4880-b84b-b4cac105cbcb"
      },
      "execution_count": 14,
      "outputs": [
        {
          "output_type": "stream",
          "name": "stdout",
          "text": [
            "Digita el primer numero: 20\n",
            "Digita el segundo numero: 0\n",
            "El denominador no puede ser 0\n",
            "Digita el segundo numero: 0\n",
            "El denominador no puede ser 0\n",
            "Digita el segundo numero: 5\n",
            "El resultado es 4.000000\n"
          ]
        }
      ]
    },
    {
      "cell_type": "code",
      "source": [
        "# 9 - Crea un programa que solicite dos valores numéricos, un operador y una potencia, y\n",
        "# realice la exponenciación entre estos dos valores.\n",
        "base = int(input('Digita la base: '))\n",
        "exponente = int(input('Digita el exponente: '))\n",
        "\n",
        "potencia = base ** exponente\n",
        "print('El resultado es: %d' %(potencia))"
      ],
      "metadata": {
        "colab": {
          "base_uri": "https://localhost:8080/"
        },
        "id": "jqK1MqCRS-4L",
        "outputId": "fa27005f-6c11-4140-e1e0-ae9c9f18fe60"
      },
      "execution_count": 15,
      "outputs": [
        {
          "output_type": "stream",
          "name": "stdout",
          "text": [
            "Digita la base: 3\n",
            "Digita el exponente: 3\n",
            "El resultado es: 27\n"
          ]
        }
      ]
    },
    {
      "cell_type": "code",
      "source": [
        "# 10 - Crea un programa que solicite dos valores numéricos, un numerador y un denominador, y realice la división entera\n",
        "# entre los dos valores. Asegúrate de que el valor del denominador no sea igual a 0.\n",
        "primer_numero = int(input('Digita el primer numero: '))\n",
        "segundo_numero = float(input('Digita el segundo numero: '))\n",
        "\n",
        "while segundo_numero == 0:\n",
        "  print('El denominador no puede ser 0')\n",
        "  segundo_numero = int(input('Digita el segundo numero: '))\n",
        "\n",
        "division = primer_numero // segundo_numero\n",
        "print('El resultado es %i' %(division))"
      ],
      "metadata": {
        "colab": {
          "base_uri": "https://localhost:8080/"
        },
        "id": "ZcSWyNukVUP6",
        "outputId": "83a270fe-e99d-4733-ef12-78dc93caa654"
      },
      "execution_count": 17,
      "outputs": [
        {
          "output_type": "stream",
          "name": "stdout",
          "text": [
            "Digita el primer numero: 20\n",
            "Digita el segundo numero: 3.5\n",
            "El resultado es 5\n"
          ]
        }
      ]
    },
    {
      "cell_type": "code",
      "source": [
        "# 11 Crea un programa que solicite dos valores numéricos, un numerador y un denominador, y devuelva\n",
        "#el resto de la división entre los dos valores. Asegúrate de que el valor del denominador no sea igual a 0.\n",
        "primer_numero = int(input('Digita el primer numero: '))\n",
        "segundo_numero = float(input('Digita el segundo numero: '))\n",
        "\n",
        "while segundo_numero == 0:\n",
        "  print('El denominador no puede ser 0')\n",
        "  segundo_numero = int(input('Digita el segundo numero: '))\n",
        "\n",
        "division = primer_numero % segundo_numero\n",
        "print('El resultado es %i' %(division))"
      ],
      "metadata": {
        "colab": {
          "base_uri": "https://localhost:8080/"
        },
        "id": "tOP-biolVsVc",
        "outputId": "3521c12a-926d-45c8-9dc6-c3e43ba48c05"
      },
      "execution_count": 18,
      "outputs": [
        {
          "output_type": "stream",
          "name": "stdout",
          "text": [
            "Digita el primer numero: 20\n",
            "Digita el segundo numero: 3\n",
            "El resultado es 2\n"
          ]
        }
      ]
    },
    {
      "cell_type": "code",
      "source": [
        "# 12 - Crea un código que solicite las 3 notas de un estudiante e imprima el\n",
        "# promedio de las notas.\n",
        "primer_numero = float(input('Digita la primer nota: '))\n",
        "segundo_numero = float(input('Digita la segunda nota: '))\n",
        "tercer_numero = float(input('Digita la tercer nota: '))\n",
        "\n",
        "promedio = (primer_numero + segundo_numero + tercer_numero) / 3\n",
        "print('El promedio es %f' %(promedio))"
      ],
      "metadata": {
        "colab": {
          "base_uri": "https://localhost:8080/"
        },
        "id": "c9X1iWJhV_h_",
        "outputId": "9e4c7e7e-6646-4c5e-bef7-23d1173ca08d"
      },
      "execution_count": 19,
      "outputs": [
        {
          "output_type": "stream",
          "name": "stdout",
          "text": [
            "Digita la primer nota: 9.5\n",
            "Digita la segunda nota: 7.9\n",
            "Digita la tercer nota: 8.3\n",
            "El promedio es 8.566667\n"
          ]
        }
      ]
    },
    {
      "cell_type": "code",
      "source": [
        "#13 - Crea un código que calcule e imprima el promedio ponderado de los números 5, 12, 20 y 15\n",
        "# con pesos respectivamente iguales a 1, 2, 3 y 4.\n",
        "promedio_ponderado = (5*1 + 12*2 + 20*3 + 15*4) / (1+2+3+4)\n",
        "print(promedio_ponderado)"
      ],
      "metadata": {
        "colab": {
          "base_uri": "https://localhost:8080/"
        },
        "id": "nXYRu9GZXYMV",
        "outputId": "b2ada2b3-5aed-4a58-e593-2f2efa7c2141"
      },
      "execution_count": 21,
      "outputs": [
        {
          "output_type": "stream",
          "name": "stdout",
          "text": [
            "14.9\n"
          ]
        }
      ]
    },
    {
      "cell_type": "code",
      "source": [
        "# 14 - Crea una variable llamada \"frase\" y asígnale una cadena de texto de tu elección.\n",
        "# Luego, imprime la frase en pantalla.\n",
        "\n",
        "frase = 'Hola a todos, me gusta jugar valorant'\n",
        "print(frase)"
      ],
      "metadata": {
        "colab": {
          "base_uri": "https://localhost:8080/"
        },
        "id": "7361-S4CYh3O",
        "outputId": "2275f353-86ee-4ddc-a10a-980b839bc61e"
      },
      "execution_count": 22,
      "outputs": [
        {
          "output_type": "stream",
          "name": "stdout",
          "text": [
            "Hola a todos, me gusta jugar valorant\n"
          ]
        }
      ]
    },
    {
      "cell_type": "code",
      "source": [
        "# 15 - Crea un código que solicite una frase y luego imprima la frase en pantalla.\n",
        "frase = input('Escribe algo: ')\n",
        "print(frase)"
      ],
      "metadata": {
        "colab": {
          "base_uri": "https://localhost:8080/"
        },
        "id": "aK5CMox8Y7LD",
        "outputId": "91fd5ea3-75e6-45d3-a903-496c6f544608"
      },
      "execution_count": 23,
      "outputs": [
        {
          "output_type": "stream",
          "name": "stdout",
          "text": [
            "Escribe algo: Me gusta iso\n",
            "Me gusta iso\n"
          ]
        }
      ]
    },
    {
      "cell_type": "code",
      "source": [
        "# 16 - Crea un código que solicite una frase al usuario y luego imprima la misma\n",
        "# frase ingresada pero en mayúsculas.\n",
        "frase = input('Escribe algo: ')\n",
        "print(frase.upper())"
      ],
      "metadata": {
        "colab": {
          "base_uri": "https://localhost:8080/"
        },
        "id": "LZ3wl1kTZEEm",
        "outputId": "80a43b5c-e53c-4253-8296-05a520aa58fa"
      },
      "execution_count": 24,
      "outputs": [
        {
          "output_type": "stream",
          "name": "stdout",
          "text": [
            "Escribe algo: Me gusta jugar valorant\n",
            "ME GUSTA JUGAR VALORANT\n"
          ]
        }
      ]
    },
    {
      "cell_type": "code",
      "source": [
        "# 17 - Crea un código que solicite una frase al usuario y luego imprima la misma\n",
        "# frase ingresada pero en minúsculas.\n",
        "frase = input('Escribe algo: ')\n",
        "print(frase.lower())"
      ],
      "metadata": {
        "colab": {
          "base_uri": "https://localhost:8080/"
        },
        "id": "noQ_Fs0jZqBv",
        "outputId": "ca475af9-d510-4941-cb86-160707ca3fbd"
      },
      "execution_count": 25,
      "outputs": [
        {
          "output_type": "stream",
          "name": "stdout",
          "text": [
            "Escribe algo: Hola\n",
            "hola\n"
          ]
        }
      ]
    },
    {
      "cell_type": "code",
      "source": [
        "# 18 - Crea una variable llamada \"frase\" y asígnale una cadena de texto de tu elección.\n",
        "# Luego, imprime la frase sin espacios en blanco al principio y al final.\n",
        "frase = input('Escribe algo: ')\n",
        "print(frase.strip())"
      ],
      "metadata": {
        "colab": {
          "base_uri": "https://localhost:8080/"
        },
        "id": "Hk7eUYwFZzV3",
        "outputId": "e214161d-fd29-49c3-ddc0-e46b4a3c8306"
      },
      "execution_count": 26,
      "outputs": [
        {
          "output_type": "stream",
          "name": "stdout",
          "text": [
            "Escribe algo:   Hola a todos     \n",
            "Hola a todos\n"
          ]
        }
      ]
    },
    {
      "cell_type": "code",
      "source": [
        "# 20 - Crea un código que solicite una frase al usuario y luego imprima la misma frase sin espacios en\n",
        "# blanco al principio y al final, además de convertirla a minúsculas.\n",
        "frase = input('Escribe algo: ')\n",
        "print(frase)\n",
        "print(frase.strip().lower())"
      ],
      "metadata": {
        "colab": {
          "base_uri": "https://localhost:8080/"
        },
        "id": "igSliVCNaML9",
        "outputId": "95fae0c7-2bd2-4662-eeed-3b1f2c5fd801"
      },
      "execution_count": 27,
      "outputs": [
        {
          "output_type": "stream",
          "name": "stdout",
          "text": [
            "Escribe algo:   Hola a todos   \n",
            "  Hola a todos   \n",
            "hola a todos\n"
          ]
        }
      ]
    },
    {
      "cell_type": "code",
      "source": [
        "# 22 - Crea un código que solicite una frase al usuario y luego imprima la misma\n",
        "# frase con todas las vocales \"a\" reemplazadas por el carácter \"@\".\n",
        "frase = input('Escribe algo: ')\n",
        "print(frase.replace('a','@'))"
      ],
      "metadata": {
        "colab": {
          "base_uri": "https://localhost:8080/"
        },
        "id": "tlqIVDZFabFx",
        "outputId": "d56058f0-492f-4f39-89ba-b9b8b46cb1f9"
      },
      "execution_count": 28,
      "outputs": [
        {
          "output_type": "stream",
          "name": "stdout",
          "text": [
            "Escribe algo: Me gusta jugar valorant\n",
            "Me gust@ jug@r v@lor@nt\n"
          ]
        }
      ]
    },
    {
      "cell_type": "code",
      "source": [],
      "metadata": {
        "id": "mshYLb_taw_I"
      },
      "execution_count": 28,
      "outputs": []
    }
  ]
}